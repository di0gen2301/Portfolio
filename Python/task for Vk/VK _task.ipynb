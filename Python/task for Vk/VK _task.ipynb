{
 "cells": [
  {
   "cell_type": "markdown",
   "id": "ac07ed16",
   "metadata": {},
   "source": [
    "После обновления баланса в игре, где сражаются 4 юнита в бою против мобов, изменилось время боя."
   ]
  },
  {
   "cell_type": "code",
   "execution_count": 166,
   "id": "fc2c01de",
   "metadata": {},
   "outputs": [],
   "source": [
    "import pandas as pd\n",
    "import matplotlib as plt\n",
    "import seaborn as sns\n",
    "import plotly.express as px\n",
    "import numpy as np\n",
    "df=pd.read_csv('vk.csv', encoding='mac_cyrillic')"
   ]
  },
  {
   "cell_type": "code",
   "execution_count": 2,
   "id": "6c565654",
   "metadata": {},
   "outputs": [],
   "source": [
    "#сразу режем датасет на 2\n",
    "df_bef = df.query('balance_mark == \"before\"')\n",
    "df_aft = df.query('balance_mark == \"after\"')\n",
    "#проверяем"
   ]
  },
  {
   "cell_type": "code",
   "execution_count": 3,
   "id": "312d4905",
   "metadata": {},
   "outputs": [
    {
     "data": {
      "text/html": [
       "<div>\n",
       "<style scoped>\n",
       "    .dataframe tbody tr th:only-of-type {\n",
       "        vertical-align: middle;\n",
       "    }\n",
       "\n",
       "    .dataframe tbody tr th {\n",
       "        vertical-align: top;\n",
       "    }\n",
       "\n",
       "    .dataframe thead th {\n",
       "        text-align: right;\n",
       "    }\n",
       "</style>\n",
       "<table border=\"1\" class=\"dataframe\">\n",
       "  <thead>\n",
       "    <tr style=\"text-align: right;\">\n",
       "      <th></th>\n",
       "      <th>battle_id</th>\n",
       "      <th>unit_1</th>\n",
       "      <th>unit_2</th>\n",
       "      <th>unit_3</th>\n",
       "      <th>unit_4</th>\n",
       "      <th>len</th>\n",
       "      <th>balance_mark</th>\n",
       "    </tr>\n",
       "  </thead>\n",
       "  <tbody>\n",
       "    <tr>\n",
       "      <th>10000</th>\n",
       "      <td>103978</td>\n",
       "      <td>меч</td>\n",
       "      <td>булава</td>\n",
       "      <td>меч</td>\n",
       "      <td>булава</td>\n",
       "      <td>23.30</td>\n",
       "      <td>after</td>\n",
       "    </tr>\n",
       "    <tr>\n",
       "      <th>10001</th>\n",
       "      <td>108601</td>\n",
       "      <td>посох</td>\n",
       "      <td>топор</td>\n",
       "      <td>булава</td>\n",
       "      <td>топор</td>\n",
       "      <td>27.12</td>\n",
       "      <td>after</td>\n",
       "    </tr>\n",
       "    <tr>\n",
       "      <th>10002</th>\n",
       "      <td>112054</td>\n",
       "      <td>лук</td>\n",
       "      <td>булава</td>\n",
       "      <td>лук</td>\n",
       "      <td>лук</td>\n",
       "      <td>26.06</td>\n",
       "      <td>after</td>\n",
       "    </tr>\n",
       "    <tr>\n",
       "      <th>10003</th>\n",
       "      <td>119433</td>\n",
       "      <td>посох</td>\n",
       "      <td>посох</td>\n",
       "      <td>лук</td>\n",
       "      <td>булава</td>\n",
       "      <td>22.76</td>\n",
       "      <td>after</td>\n",
       "    </tr>\n",
       "    <tr>\n",
       "      <th>10004</th>\n",
       "      <td>119938</td>\n",
       "      <td>меч</td>\n",
       "      <td>посох</td>\n",
       "      <td>топор</td>\n",
       "      <td>посох</td>\n",
       "      <td>28.40</td>\n",
       "      <td>after</td>\n",
       "    </tr>\n",
       "    <tr>\n",
       "      <th>...</th>\n",
       "      <td>...</td>\n",
       "      <td>...</td>\n",
       "      <td>...</td>\n",
       "      <td>...</td>\n",
       "      <td>...</td>\n",
       "      <td>...</td>\n",
       "      <td>...</td>\n",
       "    </tr>\n",
       "    <tr>\n",
       "      <th>19995</th>\n",
       "      <td>108834</td>\n",
       "      <td>посох</td>\n",
       "      <td>булава</td>\n",
       "      <td>лук</td>\n",
       "      <td>посох</td>\n",
       "      <td>26.37</td>\n",
       "      <td>after</td>\n",
       "    </tr>\n",
       "    <tr>\n",
       "      <th>19996</th>\n",
       "      <td>119941</td>\n",
       "      <td>посох</td>\n",
       "      <td>меч</td>\n",
       "      <td>лук</td>\n",
       "      <td>посох</td>\n",
       "      <td>23.73</td>\n",
       "      <td>after</td>\n",
       "    </tr>\n",
       "    <tr>\n",
       "      <th>19997</th>\n",
       "      <td>112911</td>\n",
       "      <td>топор</td>\n",
       "      <td>посох</td>\n",
       "      <td>булава</td>\n",
       "      <td>топор</td>\n",
       "      <td>27.73</td>\n",
       "      <td>after</td>\n",
       "    </tr>\n",
       "    <tr>\n",
       "      <th>19998</th>\n",
       "      <td>111684</td>\n",
       "      <td>меч</td>\n",
       "      <td>топор</td>\n",
       "      <td>посох</td>\n",
       "      <td>меч</td>\n",
       "      <td>24.20</td>\n",
       "      <td>after</td>\n",
       "    </tr>\n",
       "    <tr>\n",
       "      <th>19999</th>\n",
       "      <td>103437</td>\n",
       "      <td>лук</td>\n",
       "      <td>лук</td>\n",
       "      <td>булава</td>\n",
       "      <td>булава</td>\n",
       "      <td>22.83</td>\n",
       "      <td>after</td>\n",
       "    </tr>\n",
       "  </tbody>\n",
       "</table>\n",
       "<p>10000 rows × 7 columns</p>\n",
       "</div>"
      ],
      "text/plain": [
       "       battle_id unit_1  unit_2  unit_3  unit_4    len balance_mark\n",
       "10000     103978    меч  булава     меч  булава  23.30        after\n",
       "10001     108601  посох   топор  булава   топор  27.12        after\n",
       "10002     112054    лук  булава     лук     лук  26.06        after\n",
       "10003     119433  посох   посох     лук  булава  22.76        after\n",
       "10004     119938    меч   посох   топор   посох  28.40        after\n",
       "...          ...    ...     ...     ...     ...    ...          ...\n",
       "19995     108834  посох  булава     лук   посох  26.37        after\n",
       "19996     119941  посох     меч     лук   посох  23.73        after\n",
       "19997     112911  топор   посох  булава   топор  27.73        after\n",
       "19998     111684    меч   топор   посох     меч  24.20        after\n",
       "19999     103437    лук     лук  булава  булава  22.83        after\n",
       "\n",
       "[10000 rows x 7 columns]"
      ]
     },
     "execution_count": 3,
     "metadata": {},
     "output_type": "execute_result"
    }
   ],
   "source": [
    "df_aft"
   ]
  },
  {
   "cell_type": "code",
   "execution_count": 4,
   "id": "48c883a5",
   "metadata": {},
   "outputs": [
    {
     "data": {
      "text/html": [
       "<div>\n",
       "<style scoped>\n",
       "    .dataframe tbody tr th:only-of-type {\n",
       "        vertical-align: middle;\n",
       "    }\n",
       "\n",
       "    .dataframe tbody tr th {\n",
       "        vertical-align: top;\n",
       "    }\n",
       "\n",
       "    .dataframe thead th {\n",
       "        text-align: right;\n",
       "    }\n",
       "</style>\n",
       "<table border=\"1\" class=\"dataframe\">\n",
       "  <thead>\n",
       "    <tr style=\"text-align: right;\">\n",
       "      <th></th>\n",
       "      <th>battle_id</th>\n",
       "      <th>unit_1</th>\n",
       "      <th>unit_2</th>\n",
       "      <th>unit_3</th>\n",
       "      <th>unit_4</th>\n",
       "      <th>len</th>\n",
       "      <th>balance_mark</th>\n",
       "    </tr>\n",
       "  </thead>\n",
       "  <tbody>\n",
       "    <tr>\n",
       "      <th>0</th>\n",
       "      <td>103921</td>\n",
       "      <td>топор</td>\n",
       "      <td>лук</td>\n",
       "      <td>булава</td>\n",
       "      <td>лук</td>\n",
       "      <td>17.35</td>\n",
       "      <td>before</td>\n",
       "    </tr>\n",
       "    <tr>\n",
       "      <th>1</th>\n",
       "      <td>117214</td>\n",
       "      <td>посох</td>\n",
       "      <td>посох</td>\n",
       "      <td>лук</td>\n",
       "      <td>лук</td>\n",
       "      <td>21.84</td>\n",
       "      <td>before</td>\n",
       "    </tr>\n",
       "    <tr>\n",
       "      <th>2</th>\n",
       "      <td>115502</td>\n",
       "      <td>меч</td>\n",
       "      <td>посох</td>\n",
       "      <td>булава</td>\n",
       "      <td>топор</td>\n",
       "      <td>16.00</td>\n",
       "      <td>before</td>\n",
       "    </tr>\n",
       "    <tr>\n",
       "      <th>3</th>\n",
       "      <td>110102</td>\n",
       "      <td>булава</td>\n",
       "      <td>лук</td>\n",
       "      <td>лук</td>\n",
       "      <td>булава</td>\n",
       "      <td>17.22</td>\n",
       "      <td>before</td>\n",
       "    </tr>\n",
       "    <tr>\n",
       "      <th>4</th>\n",
       "      <td>104989</td>\n",
       "      <td>меч</td>\n",
       "      <td>посох</td>\n",
       "      <td>булава</td>\n",
       "      <td>посох</td>\n",
       "      <td>19.20</td>\n",
       "      <td>before</td>\n",
       "    </tr>\n",
       "    <tr>\n",
       "      <th>...</th>\n",
       "      <td>...</td>\n",
       "      <td>...</td>\n",
       "      <td>...</td>\n",
       "      <td>...</td>\n",
       "      <td>...</td>\n",
       "      <td>...</td>\n",
       "      <td>...</td>\n",
       "    </tr>\n",
       "    <tr>\n",
       "      <th>9995</th>\n",
       "      <td>110026</td>\n",
       "      <td>посох</td>\n",
       "      <td>лук</td>\n",
       "      <td>лук</td>\n",
       "      <td>булава</td>\n",
       "      <td>17.88</td>\n",
       "      <td>before</td>\n",
       "    </tr>\n",
       "    <tr>\n",
       "      <th>9996</th>\n",
       "      <td>113821</td>\n",
       "      <td>топор</td>\n",
       "      <td>лук</td>\n",
       "      <td>посох</td>\n",
       "      <td>лук</td>\n",
       "      <td>16.26</td>\n",
       "      <td>before</td>\n",
       "    </tr>\n",
       "    <tr>\n",
       "      <th>9997</th>\n",
       "      <td>105155</td>\n",
       "      <td>меч</td>\n",
       "      <td>лук</td>\n",
       "      <td>посох</td>\n",
       "      <td>меч</td>\n",
       "      <td>20.58</td>\n",
       "      <td>before</td>\n",
       "    </tr>\n",
       "    <tr>\n",
       "      <th>9998</th>\n",
       "      <td>104050</td>\n",
       "      <td>лук</td>\n",
       "      <td>меч</td>\n",
       "      <td>булава</td>\n",
       "      <td>посох</td>\n",
       "      <td>20.08</td>\n",
       "      <td>before</td>\n",
       "    </tr>\n",
       "    <tr>\n",
       "      <th>9999</th>\n",
       "      <td>104272</td>\n",
       "      <td>лук</td>\n",
       "      <td>посох</td>\n",
       "      <td>лук</td>\n",
       "      <td>булава</td>\n",
       "      <td>17.40</td>\n",
       "      <td>before</td>\n",
       "    </tr>\n",
       "  </tbody>\n",
       "</table>\n",
       "<p>10000 rows × 7 columns</p>\n",
       "</div>"
      ],
      "text/plain": [
       "      battle_id  unit_1 unit_2  unit_3  unit_4    len balance_mark\n",
       "0        103921   топор    лук  булава     лук  17.35       before\n",
       "1        117214   посох  посох     лук     лук  21.84       before\n",
       "2        115502     меч  посох  булава   топор  16.00       before\n",
       "3        110102  булава    лук     лук  булава  17.22       before\n",
       "4        104989     меч  посох  булава   посох  19.20       before\n",
       "...         ...     ...    ...     ...     ...    ...          ...\n",
       "9995     110026   посох    лук     лук  булава  17.88       before\n",
       "9996     113821   топор    лук   посох     лук  16.26       before\n",
       "9997     105155     меч    лук   посох     меч  20.58       before\n",
       "9998     104050     лук    меч  булава   посох  20.08       before\n",
       "9999     104272     лук  посох     лук  булава  17.40       before\n",
       "\n",
       "[10000 rows x 7 columns]"
      ]
     },
     "execution_count": 4,
     "metadata": {},
     "output_type": "execute_result"
    }
   ],
   "source": [
    "df_bef"
   ]
  },
  {
   "cell_type": "code",
   "execution_count": 5,
   "id": "688d6506",
   "metadata": {},
   "outputs": [],
   "source": [
    "#удаляем неиформативный столбец\n",
    "df_aft = df_aft.drop(['balance_mark'], axis = 1)\n",
    "df_bef = df_bef.drop(['balance_mark'], axis = 1)"
   ]
  },
  {
   "cell_type": "code",
   "execution_count": 14,
   "id": "a624c0d3",
   "metadata": {},
   "outputs": [],
   "source": [
    "#1 слой группировки. Сразу вычисляем среднее по аналогичнм наборам, где порядок пока учитывается\n",
    "#Слабое место в решении\n",
    "df_aft_new=df_aft.groupby(['unit_1', 'unit_2', 'unit_3', 'unit_4'], as_index = False).agg({'len':'mean'})\n",
    "df_bef_new=df_bef.groupby(['unit_1', 'unit_2', 'unit_3', 'unit_4'], as_index = False).agg({'len':'mean'})"
   ]
  },
  {
   "cell_type": "code",
   "execution_count": 54,
   "id": "b4b04f82",
   "metadata": {},
   "outputs": [
    {
     "data": {
      "text/html": [
       "<div>\n",
       "<style scoped>\n",
       "    .dataframe tbody tr th:only-of-type {\n",
       "        vertical-align: middle;\n",
       "    }\n",
       "\n",
       "    .dataframe tbody tr th {\n",
       "        vertical-align: top;\n",
       "    }\n",
       "\n",
       "    .dataframe thead th {\n",
       "        text-align: right;\n",
       "    }\n",
       "</style>\n",
       "<table border=\"1\" class=\"dataframe\">\n",
       "  <thead>\n",
       "    <tr style=\"text-align: right;\">\n",
       "      <th></th>\n",
       "      <th>unit_1</th>\n",
       "      <th>unit_2</th>\n",
       "      <th>unit_3</th>\n",
       "      <th>unit_4</th>\n",
       "      <th>len_before</th>\n",
       "      <th>len_after</th>\n",
       "    </tr>\n",
       "  </thead>\n",
       "  <tbody>\n",
       "    <tr>\n",
       "      <th>0</th>\n",
       "      <td>булава</td>\n",
       "      <td>булава</td>\n",
       "      <td>булава</td>\n",
       "      <td>булава</td>\n",
       "      <td>18.518125</td>\n",
       "      <td>19.811667</td>\n",
       "    </tr>\n",
       "    <tr>\n",
       "      <th>1</th>\n",
       "      <td>булава</td>\n",
       "      <td>булава</td>\n",
       "      <td>булава</td>\n",
       "      <td>лук</td>\n",
       "      <td>21.400588</td>\n",
       "      <td>24.562381</td>\n",
       "    </tr>\n",
       "    <tr>\n",
       "      <th>2</th>\n",
       "      <td>булава</td>\n",
       "      <td>булава</td>\n",
       "      <td>булава</td>\n",
       "      <td>меч</td>\n",
       "      <td>21.597273</td>\n",
       "      <td>20.456667</td>\n",
       "    </tr>\n",
       "    <tr>\n",
       "      <th>3</th>\n",
       "      <td>булава</td>\n",
       "      <td>булава</td>\n",
       "      <td>булава</td>\n",
       "      <td>посох</td>\n",
       "      <td>19.918947</td>\n",
       "      <td>25.261053</td>\n",
       "    </tr>\n",
       "    <tr>\n",
       "      <th>4</th>\n",
       "      <td>булава</td>\n",
       "      <td>булава</td>\n",
       "      <td>булава</td>\n",
       "      <td>топор</td>\n",
       "      <td>19.117778</td>\n",
       "      <td>18.867500</td>\n",
       "    </tr>\n",
       "    <tr>\n",
       "      <th>5</th>\n",
       "      <td>булава</td>\n",
       "      <td>булава</td>\n",
       "      <td>лук</td>\n",
       "      <td>булава</td>\n",
       "      <td>19.898182</td>\n",
       "      <td>25.669375</td>\n",
       "    </tr>\n",
       "  </tbody>\n",
       "</table>\n",
       "</div>"
      ],
      "text/plain": [
       "   unit_1  unit_2  unit_3  unit_4  len_before  len_after\n",
       "0  булава  булава  булава  булава   18.518125  19.811667\n",
       "1  булава  булава  булава     лук   21.400588  24.562381\n",
       "2  булава  булава  булава     меч   21.597273  20.456667\n",
       "3  булава  булава  булава   посох   19.918947  25.261053\n",
       "4  булава  булава  булава   топор   19.117778  18.867500\n",
       "5  булава  булава     лук  булава   19.898182  25.669375"
      ]
     },
     "execution_count": 54,
     "metadata": {},
     "output_type": "execute_result"
    }
   ],
   "source": [
    "# формируем датасет из двух, где будет сравнение времени\n",
    "df_all = df_bef_new\n",
    "df_all = df_all.rename(columns={'len': 'len_before'})\n",
    "df_all['len_after'] = df_aft_new.len\n",
    "df_all.head(6)"
   ]
  },
  {
   "cell_type": "code",
   "execution_count": 95,
   "id": "00b18e32",
   "metadata": {},
   "outputs": [
    {
     "data": {
      "text/plain": [
       "(625, 6)"
      ]
     },
     "execution_count": 95,
     "metadata": {},
     "output_type": "execute_result"
    }
   ],
   "source": [
    "df_all.shape"
   ]
  },
  {
   "cell_type": "markdown",
   "id": "e82cd002",
   "metadata": {},
   "source": [
    "* Видно что в строке 1 и 5 по факту один и тот же набор.  \n",
    "* Всего строчек в нашем датасете 625, а формула сочетания с повторениями даёт значение 70 различных комбинаций (5 видов оружия по 4 слотам)"
   ]
  },
  {
   "cell_type": "code",
   "execution_count": 96,
   "id": "747a507a",
   "metadata": {},
   "outputs": [
    {
     "data": {
      "text/html": [
       "<div>\n",
       "<style scoped>\n",
       "    .dataframe tbody tr th:only-of-type {\n",
       "        vertical-align: middle;\n",
       "    }\n",
       "\n",
       "    .dataframe tbody tr th {\n",
       "        vertical-align: top;\n",
       "    }\n",
       "\n",
       "    .dataframe thead th {\n",
       "        text-align: right;\n",
       "    }\n",
       "</style>\n",
       "<table border=\"1\" class=\"dataframe\">\n",
       "  <thead>\n",
       "    <tr style=\"text-align: right;\">\n",
       "      <th></th>\n",
       "      <th>unit_1</th>\n",
       "      <th>unit_2</th>\n",
       "      <th>unit_3</th>\n",
       "      <th>unit_4</th>\n",
       "      <th>len_before</th>\n",
       "      <th>len_after</th>\n",
       "      <th>bul_count</th>\n",
       "      <th>bow_count</th>\n",
       "      <th>sword_count</th>\n",
       "      <th>axe_count</th>\n",
       "      <th>pos_count</th>\n",
       "    </tr>\n",
       "  </thead>\n",
       "  <tbody>\n",
       "    <tr>\n",
       "      <th>0</th>\n",
       "      <td>булава</td>\n",
       "      <td>булава</td>\n",
       "      <td>булава</td>\n",
       "      <td>булава</td>\n",
       "      <td>18.518125</td>\n",
       "      <td>19.811667</td>\n",
       "      <td>0</td>\n",
       "      <td>0</td>\n",
       "      <td>0</td>\n",
       "      <td>0</td>\n",
       "      <td>0</td>\n",
       "    </tr>\n",
       "    <tr>\n",
       "      <th>1</th>\n",
       "      <td>булава</td>\n",
       "      <td>булава</td>\n",
       "      <td>булава</td>\n",
       "      <td>лук</td>\n",
       "      <td>21.400588</td>\n",
       "      <td>24.562381</td>\n",
       "      <td>0</td>\n",
       "      <td>0</td>\n",
       "      <td>0</td>\n",
       "      <td>0</td>\n",
       "      <td>0</td>\n",
       "    </tr>\n",
       "    <tr>\n",
       "      <th>2</th>\n",
       "      <td>булава</td>\n",
       "      <td>булава</td>\n",
       "      <td>булава</td>\n",
       "      <td>меч</td>\n",
       "      <td>21.597273</td>\n",
       "      <td>20.456667</td>\n",
       "      <td>0</td>\n",
       "      <td>0</td>\n",
       "      <td>0</td>\n",
       "      <td>0</td>\n",
       "      <td>0</td>\n",
       "    </tr>\n",
       "    <tr>\n",
       "      <th>3</th>\n",
       "      <td>булава</td>\n",
       "      <td>булава</td>\n",
       "      <td>булава</td>\n",
       "      <td>посох</td>\n",
       "      <td>19.918947</td>\n",
       "      <td>25.261053</td>\n",
       "      <td>0</td>\n",
       "      <td>0</td>\n",
       "      <td>0</td>\n",
       "      <td>0</td>\n",
       "      <td>0</td>\n",
       "    </tr>\n",
       "    <tr>\n",
       "      <th>4</th>\n",
       "      <td>булава</td>\n",
       "      <td>булава</td>\n",
       "      <td>булава</td>\n",
       "      <td>топор</td>\n",
       "      <td>19.117778</td>\n",
       "      <td>18.867500</td>\n",
       "      <td>0</td>\n",
       "      <td>0</td>\n",
       "      <td>0</td>\n",
       "      <td>0</td>\n",
       "      <td>0</td>\n",
       "    </tr>\n",
       "    <tr>\n",
       "      <th>...</th>\n",
       "      <td>...</td>\n",
       "      <td>...</td>\n",
       "      <td>...</td>\n",
       "      <td>...</td>\n",
       "      <td>...</td>\n",
       "      <td>...</td>\n",
       "      <td>...</td>\n",
       "      <td>...</td>\n",
       "      <td>...</td>\n",
       "      <td>...</td>\n",
       "      <td>...</td>\n",
       "    </tr>\n",
       "    <tr>\n",
       "      <th>620</th>\n",
       "      <td>топор</td>\n",
       "      <td>топор</td>\n",
       "      <td>топор</td>\n",
       "      <td>булава</td>\n",
       "      <td>19.184375</td>\n",
       "      <td>19.642727</td>\n",
       "      <td>0</td>\n",
       "      <td>0</td>\n",
       "      <td>0</td>\n",
       "      <td>0</td>\n",
       "      <td>0</td>\n",
       "    </tr>\n",
       "    <tr>\n",
       "      <th>621</th>\n",
       "      <td>топор</td>\n",
       "      <td>топор</td>\n",
       "      <td>топор</td>\n",
       "      <td>лук</td>\n",
       "      <td>20.427826</td>\n",
       "      <td>25.535556</td>\n",
       "      <td>0</td>\n",
       "      <td>0</td>\n",
       "      <td>0</td>\n",
       "      <td>0</td>\n",
       "      <td>0</td>\n",
       "    </tr>\n",
       "    <tr>\n",
       "      <th>622</th>\n",
       "      <td>топор</td>\n",
       "      <td>топор</td>\n",
       "      <td>топор</td>\n",
       "      <td>меч</td>\n",
       "      <td>20.541500</td>\n",
       "      <td>21.120833</td>\n",
       "      <td>0</td>\n",
       "      <td>0</td>\n",
       "      <td>0</td>\n",
       "      <td>0</td>\n",
       "      <td>0</td>\n",
       "    </tr>\n",
       "    <tr>\n",
       "      <th>623</th>\n",
       "      <td>топор</td>\n",
       "      <td>топор</td>\n",
       "      <td>топор</td>\n",
       "      <td>посох</td>\n",
       "      <td>20.475500</td>\n",
       "      <td>24.838462</td>\n",
       "      <td>0</td>\n",
       "      <td>0</td>\n",
       "      <td>0</td>\n",
       "      <td>0</td>\n",
       "      <td>0</td>\n",
       "    </tr>\n",
       "    <tr>\n",
       "      <th>624</th>\n",
       "      <td>топор</td>\n",
       "      <td>топор</td>\n",
       "      <td>топор</td>\n",
       "      <td>топор</td>\n",
       "      <td>18.891667</td>\n",
       "      <td>19.969167</td>\n",
       "      <td>0</td>\n",
       "      <td>0</td>\n",
       "      <td>0</td>\n",
       "      <td>0</td>\n",
       "      <td>0</td>\n",
       "    </tr>\n",
       "  </tbody>\n",
       "</table>\n",
       "<p>625 rows × 11 columns</p>\n",
       "</div>"
      ],
      "text/plain": [
       "     unit_1  unit_2  unit_3  unit_4  len_before  len_after  bul_count  \\\n",
       "0    булава  булава  булава  булава   18.518125  19.811667          0   \n",
       "1    булава  булава  булава     лук   21.400588  24.562381          0   \n",
       "2    булава  булава  булава     меч   21.597273  20.456667          0   \n",
       "3    булава  булава  булава   посох   19.918947  25.261053          0   \n",
       "4    булава  булава  булава   топор   19.117778  18.867500          0   \n",
       "..      ...     ...     ...     ...         ...        ...        ...   \n",
       "620   топор   топор   топор  булава   19.184375  19.642727          0   \n",
       "621   топор   топор   топор     лук   20.427826  25.535556          0   \n",
       "622   топор   топор   топор     меч   20.541500  21.120833          0   \n",
       "623   топор   топор   топор   посох   20.475500  24.838462          0   \n",
       "624   топор   топор   топор   топор   18.891667  19.969167          0   \n",
       "\n",
       "     bow_count  sword_count  axe_count  pos_count  \n",
       "0            0            0          0          0  \n",
       "1            0            0          0          0  \n",
       "2            0            0          0          0  \n",
       "3            0            0          0          0  \n",
       "4            0            0          0          0  \n",
       "..         ...          ...        ...        ...  \n",
       "620          0            0          0          0  \n",
       "621          0            0          0          0  \n",
       "622          0            0          0          0  \n",
       "623          0            0          0          0  \n",
       "624          0            0          0          0  \n",
       "\n",
       "[625 rows x 11 columns]"
      ]
     },
     "execution_count": 96,
     "metadata": {},
     "output_type": "execute_result"
    }
   ],
   "source": [
    "#создаём колонки для сводной таблицы\n",
    "df_last = df_all.assign(bul_count = 0, bow_count = 0, sword_count = 0, axe_count = 0, pos_count = 0)\n",
    "df_last"
   ]
  },
  {
   "cell_type": "markdown",
   "id": "2206e15f",
   "metadata": {},
   "source": [
    "#### формируем и заполняем таблицу с помощью цикла"
   ]
  },
  {
   "cell_type": "code",
   "execution_count": 93,
   "id": "dbb8fd2d",
   "metadata": {},
   "outputs": [
    {
     "data": {
      "text/html": [
       "<div>\n",
       "<style scoped>\n",
       "    .dataframe tbody tr th:only-of-type {\n",
       "        vertical-align: middle;\n",
       "    }\n",
       "\n",
       "    .dataframe tbody tr th {\n",
       "        vertical-align: top;\n",
       "    }\n",
       "\n",
       "    .dataframe thead th {\n",
       "        text-align: right;\n",
       "    }\n",
       "</style>\n",
       "<table border=\"1\" class=\"dataframe\">\n",
       "  <thead>\n",
       "    <tr style=\"text-align: right;\">\n",
       "      <th></th>\n",
       "      <th>len_before</th>\n",
       "      <th>len_after</th>\n",
       "      <th>bul_count</th>\n",
       "      <th>bow_count</th>\n",
       "      <th>sword_count</th>\n",
       "      <th>axe_count</th>\n",
       "      <th>pos_count</th>\n",
       "    </tr>\n",
       "  </thead>\n",
       "  <tbody>\n",
       "    <tr>\n",
       "      <th>0</th>\n",
       "      <td>18.518125</td>\n",
       "      <td>19.811667</td>\n",
       "      <td>4</td>\n",
       "      <td>0</td>\n",
       "      <td>0</td>\n",
       "      <td>0</td>\n",
       "      <td>0</td>\n",
       "    </tr>\n",
       "    <tr>\n",
       "      <th>1</th>\n",
       "      <td>21.400588</td>\n",
       "      <td>24.562381</td>\n",
       "      <td>3</td>\n",
       "      <td>1</td>\n",
       "      <td>0</td>\n",
       "      <td>0</td>\n",
       "      <td>0</td>\n",
       "    </tr>\n",
       "    <tr>\n",
       "      <th>2</th>\n",
       "      <td>21.597273</td>\n",
       "      <td>20.456667</td>\n",
       "      <td>3</td>\n",
       "      <td>0</td>\n",
       "      <td>1</td>\n",
       "      <td>0</td>\n",
       "      <td>0</td>\n",
       "    </tr>\n",
       "    <tr>\n",
       "      <th>3</th>\n",
       "      <td>19.918947</td>\n",
       "      <td>25.261053</td>\n",
       "      <td>3</td>\n",
       "      <td>0</td>\n",
       "      <td>0</td>\n",
       "      <td>0</td>\n",
       "      <td>1</td>\n",
       "    </tr>\n",
       "    <tr>\n",
       "      <th>4</th>\n",
       "      <td>19.117778</td>\n",
       "      <td>18.867500</td>\n",
       "      <td>3</td>\n",
       "      <td>0</td>\n",
       "      <td>0</td>\n",
       "      <td>1</td>\n",
       "      <td>0</td>\n",
       "    </tr>\n",
       "    <tr>\n",
       "      <th>...</th>\n",
       "      <td>...</td>\n",
       "      <td>...</td>\n",
       "      <td>...</td>\n",
       "      <td>...</td>\n",
       "      <td>...</td>\n",
       "      <td>...</td>\n",
       "      <td>...</td>\n",
       "    </tr>\n",
       "    <tr>\n",
       "      <th>620</th>\n",
       "      <td>19.184375</td>\n",
       "      <td>19.642727</td>\n",
       "      <td>1</td>\n",
       "      <td>0</td>\n",
       "      <td>0</td>\n",
       "      <td>3</td>\n",
       "      <td>0</td>\n",
       "    </tr>\n",
       "    <tr>\n",
       "      <th>621</th>\n",
       "      <td>20.427826</td>\n",
       "      <td>25.535556</td>\n",
       "      <td>0</td>\n",
       "      <td>1</td>\n",
       "      <td>0</td>\n",
       "      <td>3</td>\n",
       "      <td>0</td>\n",
       "    </tr>\n",
       "    <tr>\n",
       "      <th>622</th>\n",
       "      <td>20.541500</td>\n",
       "      <td>21.120833</td>\n",
       "      <td>0</td>\n",
       "      <td>0</td>\n",
       "      <td>1</td>\n",
       "      <td>3</td>\n",
       "      <td>0</td>\n",
       "    </tr>\n",
       "    <tr>\n",
       "      <th>623</th>\n",
       "      <td>20.475500</td>\n",
       "      <td>24.838462</td>\n",
       "      <td>0</td>\n",
       "      <td>0</td>\n",
       "      <td>0</td>\n",
       "      <td>3</td>\n",
       "      <td>1</td>\n",
       "    </tr>\n",
       "    <tr>\n",
       "      <th>624</th>\n",
       "      <td>18.891667</td>\n",
       "      <td>19.969167</td>\n",
       "      <td>0</td>\n",
       "      <td>0</td>\n",
       "      <td>0</td>\n",
       "      <td>4</td>\n",
       "      <td>0</td>\n",
       "    </tr>\n",
       "  </tbody>\n",
       "</table>\n",
       "<p>625 rows × 7 columns</p>\n",
       "</div>"
      ],
      "text/plain": [
       "     len_before  len_after  bul_count  bow_count  sword_count  axe_count  \\\n",
       "0     18.518125  19.811667          4          0            0          0   \n",
       "1     21.400588  24.562381          3          1            0          0   \n",
       "2     21.597273  20.456667          3          0            1          0   \n",
       "3     19.918947  25.261053          3          0            0          0   \n",
       "4     19.117778  18.867500          3          0            0          1   \n",
       "..          ...        ...        ...        ...          ...        ...   \n",
       "620   19.184375  19.642727          1          0            0          3   \n",
       "621   20.427826  25.535556          0          1            0          3   \n",
       "622   20.541500  21.120833          0          0            1          3   \n",
       "623   20.475500  24.838462          0          0            0          3   \n",
       "624   18.891667  19.969167          0          0            0          4   \n",
       "\n",
       "     pos_count  \n",
       "0            0  \n",
       "1            0  \n",
       "2            0  \n",
       "3            1  \n",
       "4            0  \n",
       "..         ...  \n",
       "620          0  \n",
       "621          0  \n",
       "622          0  \n",
       "623          1  \n",
       "624          0  \n",
       "\n",
       "[625 rows x 7 columns]"
      ]
     },
     "execution_count": 93,
     "metadata": {},
     "output_type": "execute_result"
    }
   ],
   "source": [
    "d = {'1' : \"unit_1\", '2' : \"unit_2\" , '3' : \"unit_3\", '4' : \"unit_4\"}\n",
    "df_last.bul_count = 0\n",
    "d.get('1')\n",
    "for j in range(len(d)):\n",
    "    for i in range(len(df_last)):\n",
    "        if df_last.loc[i, d.get(str(j+1))] == \"булава\":\n",
    "            df_last.loc[i, 'bul_count']+=1\n",
    "        if df_last.loc[i, d.get(str(j+1))] == \"меч\":\n",
    "            df_last.loc[i, 'sword_count']+=1\n",
    "        if df_last.loc[i, d.get(str(j+1))] == \"лук\":\n",
    "            df_last.loc[i, 'bow_count']+=1    \n",
    "        if df_last.loc[i, d.get(str(j+1))] == \"посох\":\n",
    "            df_last.loc[i, 'pos_count']+=1\n",
    "        if df_last.loc[i, d.get(str(j+1))] == \"топор\":\n",
    "            df_last.loc[i, 'axe_count']+=1\n",
    "# удаляем неинформативные колонки\n",
    "df_last = df_last.drop(['unit_1', 'unit_2','unit_3','unit_4'], axis = 1)\n",
    "df_last"
   ]
  },
  {
   "cell_type": "code",
   "execution_count": 45,
   "id": "7c3214e9",
   "metadata": {},
   "outputs": [
    {
     "data": {
      "text/html": [
       "<div>\n",
       "<style scoped>\n",
       "    .dataframe tbody tr th:only-of-type {\n",
       "        vertical-align: middle;\n",
       "    }\n",
       "\n",
       "    .dataframe tbody tr th {\n",
       "        vertical-align: top;\n",
       "    }\n",
       "\n",
       "    .dataframe thead th {\n",
       "        text-align: right;\n",
       "    }\n",
       "</style>\n",
       "<table border=\"1\" class=\"dataframe\">\n",
       "  <thead>\n",
       "    <tr style=\"text-align: right;\">\n",
       "      <th></th>\n",
       "      <th>bul_count</th>\n",
       "      <th>bow_count</th>\n",
       "      <th>sword_count</th>\n",
       "      <th>axe_count</th>\n",
       "      <th>pos_count</th>\n",
       "      <th>len_after</th>\n",
       "      <th>len_before</th>\n",
       "    </tr>\n",
       "  </thead>\n",
       "  <tbody>\n",
       "    <tr>\n",
       "      <th>0</th>\n",
       "      <td>0</td>\n",
       "      <td>0</td>\n",
       "      <td>0</td>\n",
       "      <td>0</td>\n",
       "      <td>4</td>\n",
       "      <td>24.978182</td>\n",
       "      <td>20.571250</td>\n",
       "    </tr>\n",
       "    <tr>\n",
       "      <th>1</th>\n",
       "      <td>0</td>\n",
       "      <td>0</td>\n",
       "      <td>0</td>\n",
       "      <td>1</td>\n",
       "      <td>3</td>\n",
       "      <td>24.730281</td>\n",
       "      <td>19.896264</td>\n",
       "    </tr>\n",
       "    <tr>\n",
       "      <th>2</th>\n",
       "      <td>0</td>\n",
       "      <td>0</td>\n",
       "      <td>0</td>\n",
       "      <td>2</td>\n",
       "      <td>2</td>\n",
       "      <td>25.074832</td>\n",
       "      <td>20.164788</td>\n",
       "    </tr>\n",
       "    <tr>\n",
       "      <th>3</th>\n",
       "      <td>0</td>\n",
       "      <td>0</td>\n",
       "      <td>0</td>\n",
       "      <td>3</td>\n",
       "      <td>1</td>\n",
       "      <td>24.870167</td>\n",
       "      <td>19.982164</td>\n",
       "    </tr>\n",
       "    <tr>\n",
       "      <th>4</th>\n",
       "      <td>0</td>\n",
       "      <td>0</td>\n",
       "      <td>0</td>\n",
       "      <td>4</td>\n",
       "      <td>0</td>\n",
       "      <td>19.969167</td>\n",
       "      <td>18.891667</td>\n",
       "    </tr>\n",
       "    <tr>\n",
       "      <th>...</th>\n",
       "      <td>...</td>\n",
       "      <td>...</td>\n",
       "      <td>...</td>\n",
       "      <td>...</td>\n",
       "      <td>...</td>\n",
       "      <td>...</td>\n",
       "      <td>...</td>\n",
       "    </tr>\n",
       "    <tr>\n",
       "      <th>65</th>\n",
       "      <td>3</td>\n",
       "      <td>0</td>\n",
       "      <td>0</td>\n",
       "      <td>0</td>\n",
       "      <td>1</td>\n",
       "      <td>25.531430</td>\n",
       "      <td>19.531053</td>\n",
       "    </tr>\n",
       "    <tr>\n",
       "      <th>66</th>\n",
       "      <td>3</td>\n",
       "      <td>0</td>\n",
       "      <td>0</td>\n",
       "      <td>1</td>\n",
       "      <td>0</td>\n",
       "      <td>19.902857</td>\n",
       "      <td>20.160688</td>\n",
       "    </tr>\n",
       "    <tr>\n",
       "      <th>67</th>\n",
       "      <td>3</td>\n",
       "      <td>0</td>\n",
       "      <td>1</td>\n",
       "      <td>0</td>\n",
       "      <td>0</td>\n",
       "      <td>20.023058</td>\n",
       "      <td>20.223728</td>\n",
       "    </tr>\n",
       "    <tr>\n",
       "      <th>68</th>\n",
       "      <td>3</td>\n",
       "      <td>1</td>\n",
       "      <td>0</td>\n",
       "      <td>0</td>\n",
       "      <td>0</td>\n",
       "      <td>24.963388</td>\n",
       "      <td>20.379802</td>\n",
       "    </tr>\n",
       "    <tr>\n",
       "      <th>69</th>\n",
       "      <td>4</td>\n",
       "      <td>0</td>\n",
       "      <td>0</td>\n",
       "      <td>0</td>\n",
       "      <td>0</td>\n",
       "      <td>19.811667</td>\n",
       "      <td>18.518125</td>\n",
       "    </tr>\n",
       "  </tbody>\n",
       "</table>\n",
       "<p>70 rows × 7 columns</p>\n",
       "</div>"
      ],
      "text/plain": [
       "    bul_count  bow_count  sword_count  axe_count  pos_count  len_after  \\\n",
       "0           0          0            0          0          4  24.978182   \n",
       "1           0          0            0          1          3  24.730281   \n",
       "2           0          0            0          2          2  25.074832   \n",
       "3           0          0            0          3          1  24.870167   \n",
       "4           0          0            0          4          0  19.969167   \n",
       "..        ...        ...          ...        ...        ...        ...   \n",
       "65          3          0            0          0          1  25.531430   \n",
       "66          3          0            0          1          0  19.902857   \n",
       "67          3          0            1          0          0  20.023058   \n",
       "68          3          1            0          0          0  24.963388   \n",
       "69          4          0            0          0          0  19.811667   \n",
       "\n",
       "    len_before  \n",
       "0    20.571250  \n",
       "1    19.896264  \n",
       "2    20.164788  \n",
       "3    19.982164  \n",
       "4    18.891667  \n",
       "..         ...  \n",
       "65   19.531053  \n",
       "66   20.160688  \n",
       "67   20.223728  \n",
       "68   20.379802  \n",
       "69   18.518125  \n",
       "\n",
       "[70 rows x 7 columns]"
      ]
     },
     "execution_count": 45,
     "metadata": {},
     "output_type": "execute_result"
    }
   ],
   "source": [
    "#2 слой групировки\n",
    "fin_df = df_last.groupby(['bul_count', \n",
    "                          'bow_count', \n",
    "                          'sword_count', \n",
    "                          'axe_count', \n",
    "                          'pos_count'], \n",
    "                         as_index = False) \\\n",
    "                .agg({'len_after'  : 'mean', \n",
    "                      'len_before' : 'mean' })\n",
    "fin_df"
   ]
  },
  {
   "cell_type": "markdown",
   "id": "f37a1b8a",
   "metadata": {},
   "source": [
    "### видим как раз 70 комбинаций, значит сгрупировали правильно и в некотором приближении решили правильно"
   ]
  },
  {
   "cell_type": "code",
   "execution_count": 134,
   "id": "5f5f3042",
   "metadata": {},
   "outputs": [
    {
     "data": {
      "application/vnd.plotly.v1+json": {
       "config": {
        "plotlyServerURL": "https://plot.ly"
       },
       "data": [
        {
         "alignmentgroup": "True",
         "bingroup": "x",
         "hovertemplate": "time_diff=%{x}<br>count=%{y}<extra></extra>",
         "legendgroup": "",
         "marker": {
          "color": "#636efa",
          "pattern": {
           "shape": ""
          }
         },
         "name": "",
         "offsetgroup": "",
         "orientation": "v",
         "showlegend": false,
         "type": "histogram",
         "x": [
          4.406931818181818,
          4.834016743060861,
          4.9100435178111645,
          4.888002994264507,
          1.0775000000000006,
          5.056908979908982,
          5.539095974049644,
          5.332870230882094,
          0.4960316207184654,
          5.746098269692698,
          4.654809848957186,
          0.41023643609047156,
          4.531929166666668,
          -0.06744099876572918,
          1.8402999999999992,
          5.693402286439049,
          5.1659189611450635,
          4.96847196428514,
          4.929674233126917,
          5.1120897648139305,
          5.158624895946733,
          5.527351903958326,
          4.828708234302731,
          4.5262581712912855,
          4.899038077731092,
          4.995559974282109,
          4.923518768704067,
          5.0122254726482645,
          5.23290482037336,
          5.239049170911301,
          4.45316316967633,
          4.252842770954537,
          4.859519688644685,
          5.032018429487177,
          2.7886607142857116,
          5.21726973353444,
          4.614999634380904,
          5.266414075855057,
          -0.30332628319392896,
          4.964690086261779,
          4.906407700939123,
          -0.02099211464490125,
          5.128834577356383,
          0.33893648438907675,
          -0.13697410593792014,
          4.658504806073559,
          4.784878632998332,
          5.146553122619842,
          5.240658697136233,
          4.754010712437424,
          4.830286733039639,
          5.032273010722513,
          5.246215125510595,
          5.253451058670002,
          4.760953091026622,
          5.117012874380524,
          4.55738419834308,
          0.2298554484501878,
          5.600643761054428,
          -10.064593822604913,
          -0.22333677312278155,
          4.710161495947297,
          5.392586291429392,
          4.397300281464464,
          4.65269996368918,
          6.00037713592522,
          -0.25783085163890007,
          -0.20067081876456783,
          4.583586172008673,
          1.2935416666666661
         ],
         "xaxis": "x",
         "yaxis": "y"
        }
       ],
       "layout": {
        "barmode": "relative",
        "legend": {
         "tracegroupgap": 0
        },
        "margin": {
         "t": 60
        },
        "template": {
         "data": {
          "bar": [
           {
            "error_x": {
             "color": "#2a3f5f"
            },
            "error_y": {
             "color": "#2a3f5f"
            },
            "marker": {
             "line": {
              "color": "#E5ECF6",
              "width": 0.5
             },
             "pattern": {
              "fillmode": "overlay",
              "size": 10,
              "solidity": 0.2
             }
            },
            "type": "bar"
           }
          ],
          "barpolar": [
           {
            "marker": {
             "line": {
              "color": "#E5ECF6",
              "width": 0.5
             },
             "pattern": {
              "fillmode": "overlay",
              "size": 10,
              "solidity": 0.2
             }
            },
            "type": "barpolar"
           }
          ],
          "carpet": [
           {
            "aaxis": {
             "endlinecolor": "#2a3f5f",
             "gridcolor": "white",
             "linecolor": "white",
             "minorgridcolor": "white",
             "startlinecolor": "#2a3f5f"
            },
            "baxis": {
             "endlinecolor": "#2a3f5f",
             "gridcolor": "white",
             "linecolor": "white",
             "minorgridcolor": "white",
             "startlinecolor": "#2a3f5f"
            },
            "type": "carpet"
           }
          ],
          "choropleth": [
           {
            "colorbar": {
             "outlinewidth": 0,
             "ticks": ""
            },
            "type": "choropleth"
           }
          ],
          "contour": [
           {
            "colorbar": {
             "outlinewidth": 0,
             "ticks": ""
            },
            "colorscale": [
             [
              0,
              "#0d0887"
             ],
             [
              0.1111111111111111,
              "#46039f"
             ],
             [
              0.2222222222222222,
              "#7201a8"
             ],
             [
              0.3333333333333333,
              "#9c179e"
             ],
             [
              0.4444444444444444,
              "#bd3786"
             ],
             [
              0.5555555555555556,
              "#d8576b"
             ],
             [
              0.6666666666666666,
              "#ed7953"
             ],
             [
              0.7777777777777778,
              "#fb9f3a"
             ],
             [
              0.8888888888888888,
              "#fdca26"
             ],
             [
              1,
              "#f0f921"
             ]
            ],
            "type": "contour"
           }
          ],
          "contourcarpet": [
           {
            "colorbar": {
             "outlinewidth": 0,
             "ticks": ""
            },
            "type": "contourcarpet"
           }
          ],
          "heatmap": [
           {
            "colorbar": {
             "outlinewidth": 0,
             "ticks": ""
            },
            "colorscale": [
             [
              0,
              "#0d0887"
             ],
             [
              0.1111111111111111,
              "#46039f"
             ],
             [
              0.2222222222222222,
              "#7201a8"
             ],
             [
              0.3333333333333333,
              "#9c179e"
             ],
             [
              0.4444444444444444,
              "#bd3786"
             ],
             [
              0.5555555555555556,
              "#d8576b"
             ],
             [
              0.6666666666666666,
              "#ed7953"
             ],
             [
              0.7777777777777778,
              "#fb9f3a"
             ],
             [
              0.8888888888888888,
              "#fdca26"
             ],
             [
              1,
              "#f0f921"
             ]
            ],
            "type": "heatmap"
           }
          ],
          "heatmapgl": [
           {
            "colorbar": {
             "outlinewidth": 0,
             "ticks": ""
            },
            "colorscale": [
             [
              0,
              "#0d0887"
             ],
             [
              0.1111111111111111,
              "#46039f"
             ],
             [
              0.2222222222222222,
              "#7201a8"
             ],
             [
              0.3333333333333333,
              "#9c179e"
             ],
             [
              0.4444444444444444,
              "#bd3786"
             ],
             [
              0.5555555555555556,
              "#d8576b"
             ],
             [
              0.6666666666666666,
              "#ed7953"
             ],
             [
              0.7777777777777778,
              "#fb9f3a"
             ],
             [
              0.8888888888888888,
              "#fdca26"
             ],
             [
              1,
              "#f0f921"
             ]
            ],
            "type": "heatmapgl"
           }
          ],
          "histogram": [
           {
            "marker": {
             "pattern": {
              "fillmode": "overlay",
              "size": 10,
              "solidity": 0.2
             }
            },
            "type": "histogram"
           }
          ],
          "histogram2d": [
           {
            "colorbar": {
             "outlinewidth": 0,
             "ticks": ""
            },
            "colorscale": [
             [
              0,
              "#0d0887"
             ],
             [
              0.1111111111111111,
              "#46039f"
             ],
             [
              0.2222222222222222,
              "#7201a8"
             ],
             [
              0.3333333333333333,
              "#9c179e"
             ],
             [
              0.4444444444444444,
              "#bd3786"
             ],
             [
              0.5555555555555556,
              "#d8576b"
             ],
             [
              0.6666666666666666,
              "#ed7953"
             ],
             [
              0.7777777777777778,
              "#fb9f3a"
             ],
             [
              0.8888888888888888,
              "#fdca26"
             ],
             [
              1,
              "#f0f921"
             ]
            ],
            "type": "histogram2d"
           }
          ],
          "histogram2dcontour": [
           {
            "colorbar": {
             "outlinewidth": 0,
             "ticks": ""
            },
            "colorscale": [
             [
              0,
              "#0d0887"
             ],
             [
              0.1111111111111111,
              "#46039f"
             ],
             [
              0.2222222222222222,
              "#7201a8"
             ],
             [
              0.3333333333333333,
              "#9c179e"
             ],
             [
              0.4444444444444444,
              "#bd3786"
             ],
             [
              0.5555555555555556,
              "#d8576b"
             ],
             [
              0.6666666666666666,
              "#ed7953"
             ],
             [
              0.7777777777777778,
              "#fb9f3a"
             ],
             [
              0.8888888888888888,
              "#fdca26"
             ],
             [
              1,
              "#f0f921"
             ]
            ],
            "type": "histogram2dcontour"
           }
          ],
          "mesh3d": [
           {
            "colorbar": {
             "outlinewidth": 0,
             "ticks": ""
            },
            "type": "mesh3d"
           }
          ],
          "parcoords": [
           {
            "line": {
             "colorbar": {
              "outlinewidth": 0,
              "ticks": ""
             }
            },
            "type": "parcoords"
           }
          ],
          "pie": [
           {
            "automargin": true,
            "type": "pie"
           }
          ],
          "scatter": [
           {
            "fillpattern": {
             "fillmode": "overlay",
             "size": 10,
             "solidity": 0.2
            },
            "type": "scatter"
           }
          ],
          "scatter3d": [
           {
            "line": {
             "colorbar": {
              "outlinewidth": 0,
              "ticks": ""
             }
            },
            "marker": {
             "colorbar": {
              "outlinewidth": 0,
              "ticks": ""
             }
            },
            "type": "scatter3d"
           }
          ],
          "scattercarpet": [
           {
            "marker": {
             "colorbar": {
              "outlinewidth": 0,
              "ticks": ""
             }
            },
            "type": "scattercarpet"
           }
          ],
          "scattergeo": [
           {
            "marker": {
             "colorbar": {
              "outlinewidth": 0,
              "ticks": ""
             }
            },
            "type": "scattergeo"
           }
          ],
          "scattergl": [
           {
            "marker": {
             "colorbar": {
              "outlinewidth": 0,
              "ticks": ""
             }
            },
            "type": "scattergl"
           }
          ],
          "scattermapbox": [
           {
            "marker": {
             "colorbar": {
              "outlinewidth": 0,
              "ticks": ""
             }
            },
            "type": "scattermapbox"
           }
          ],
          "scatterpolar": [
           {
            "marker": {
             "colorbar": {
              "outlinewidth": 0,
              "ticks": ""
             }
            },
            "type": "scatterpolar"
           }
          ],
          "scatterpolargl": [
           {
            "marker": {
             "colorbar": {
              "outlinewidth": 0,
              "ticks": ""
             }
            },
            "type": "scatterpolargl"
           }
          ],
          "scatterternary": [
           {
            "marker": {
             "colorbar": {
              "outlinewidth": 0,
              "ticks": ""
             }
            },
            "type": "scatterternary"
           }
          ],
          "surface": [
           {
            "colorbar": {
             "outlinewidth": 0,
             "ticks": ""
            },
            "colorscale": [
             [
              0,
              "#0d0887"
             ],
             [
              0.1111111111111111,
              "#46039f"
             ],
             [
              0.2222222222222222,
              "#7201a8"
             ],
             [
              0.3333333333333333,
              "#9c179e"
             ],
             [
              0.4444444444444444,
              "#bd3786"
             ],
             [
              0.5555555555555556,
              "#d8576b"
             ],
             [
              0.6666666666666666,
              "#ed7953"
             ],
             [
              0.7777777777777778,
              "#fb9f3a"
             ],
             [
              0.8888888888888888,
              "#fdca26"
             ],
             [
              1,
              "#f0f921"
             ]
            ],
            "type": "surface"
           }
          ],
          "table": [
           {
            "cells": {
             "fill": {
              "color": "#EBF0F8"
             },
             "line": {
              "color": "white"
             }
            },
            "header": {
             "fill": {
              "color": "#C8D4E3"
             },
             "line": {
              "color": "white"
             }
            },
            "type": "table"
           }
          ]
         },
         "layout": {
          "annotationdefaults": {
           "arrowcolor": "#2a3f5f",
           "arrowhead": 0,
           "arrowwidth": 1
          },
          "autotypenumbers": "strict",
          "coloraxis": {
           "colorbar": {
            "outlinewidth": 0,
            "ticks": ""
           }
          },
          "colorscale": {
           "diverging": [
            [
             0,
             "#8e0152"
            ],
            [
             0.1,
             "#c51b7d"
            ],
            [
             0.2,
             "#de77ae"
            ],
            [
             0.3,
             "#f1b6da"
            ],
            [
             0.4,
             "#fde0ef"
            ],
            [
             0.5,
             "#f7f7f7"
            ],
            [
             0.6,
             "#e6f5d0"
            ],
            [
             0.7,
             "#b8e186"
            ],
            [
             0.8,
             "#7fbc41"
            ],
            [
             0.9,
             "#4d9221"
            ],
            [
             1,
             "#276419"
            ]
           ],
           "sequential": [
            [
             0,
             "#0d0887"
            ],
            [
             0.1111111111111111,
             "#46039f"
            ],
            [
             0.2222222222222222,
             "#7201a8"
            ],
            [
             0.3333333333333333,
             "#9c179e"
            ],
            [
             0.4444444444444444,
             "#bd3786"
            ],
            [
             0.5555555555555556,
             "#d8576b"
            ],
            [
             0.6666666666666666,
             "#ed7953"
            ],
            [
             0.7777777777777778,
             "#fb9f3a"
            ],
            [
             0.8888888888888888,
             "#fdca26"
            ],
            [
             1,
             "#f0f921"
            ]
           ],
           "sequentialminus": [
            [
             0,
             "#0d0887"
            ],
            [
             0.1111111111111111,
             "#46039f"
            ],
            [
             0.2222222222222222,
             "#7201a8"
            ],
            [
             0.3333333333333333,
             "#9c179e"
            ],
            [
             0.4444444444444444,
             "#bd3786"
            ],
            [
             0.5555555555555556,
             "#d8576b"
            ],
            [
             0.6666666666666666,
             "#ed7953"
            ],
            [
             0.7777777777777778,
             "#fb9f3a"
            ],
            [
             0.8888888888888888,
             "#fdca26"
            ],
            [
             1,
             "#f0f921"
            ]
           ]
          },
          "colorway": [
           "#636efa",
           "#EF553B",
           "#00cc96",
           "#ab63fa",
           "#FFA15A",
           "#19d3f3",
           "#FF6692",
           "#B6E880",
           "#FF97FF",
           "#FECB52"
          ],
          "font": {
           "color": "#2a3f5f"
          },
          "geo": {
           "bgcolor": "white",
           "lakecolor": "white",
           "landcolor": "#E5ECF6",
           "showlakes": true,
           "showland": true,
           "subunitcolor": "white"
          },
          "hoverlabel": {
           "align": "left"
          },
          "hovermode": "closest",
          "mapbox": {
           "style": "light"
          },
          "paper_bgcolor": "white",
          "plot_bgcolor": "#E5ECF6",
          "polar": {
           "angularaxis": {
            "gridcolor": "white",
            "linecolor": "white",
            "ticks": ""
           },
           "bgcolor": "#E5ECF6",
           "radialaxis": {
            "gridcolor": "white",
            "linecolor": "white",
            "ticks": ""
           }
          },
          "scene": {
           "xaxis": {
            "backgroundcolor": "#E5ECF6",
            "gridcolor": "white",
            "gridwidth": 2,
            "linecolor": "white",
            "showbackground": true,
            "ticks": "",
            "zerolinecolor": "white"
           },
           "yaxis": {
            "backgroundcolor": "#E5ECF6",
            "gridcolor": "white",
            "gridwidth": 2,
            "linecolor": "white",
            "showbackground": true,
            "ticks": "",
            "zerolinecolor": "white"
           },
           "zaxis": {
            "backgroundcolor": "#E5ECF6",
            "gridcolor": "white",
            "gridwidth": 2,
            "linecolor": "white",
            "showbackground": true,
            "ticks": "",
            "zerolinecolor": "white"
           }
          },
          "shapedefaults": {
           "line": {
            "color": "#2a3f5f"
           }
          },
          "ternary": {
           "aaxis": {
            "gridcolor": "white",
            "linecolor": "white",
            "ticks": ""
           },
           "baxis": {
            "gridcolor": "white",
            "linecolor": "white",
            "ticks": ""
           },
           "bgcolor": "#E5ECF6",
           "caxis": {
            "gridcolor": "white",
            "linecolor": "white",
            "ticks": ""
           }
          },
          "title": {
           "x": 0.05
          },
          "xaxis": {
           "automargin": true,
           "gridcolor": "white",
           "linecolor": "white",
           "ticks": "",
           "title": {
            "standoff": 15
           },
           "zerolinecolor": "white",
           "zerolinewidth": 2
          },
          "yaxis": {
           "automargin": true,
           "gridcolor": "white",
           "linecolor": "white",
           "ticks": "",
           "title": {
            "standoff": 15
           },
           "zerolinecolor": "white",
           "zerolinewidth": 2
          }
         }
        },
        "xaxis": {
         "anchor": "y",
         "domain": [
          0,
          1
         ],
         "title": {
          "text": "time_diff"
         }
        },
        "yaxis": {
         "anchor": "x",
         "domain": [
          0,
          1
         ],
         "title": {
          "text": "count"
         }
        }
       }
      },
      "text/html": [
       "<div>                            <div id=\"a8c97c33-b417-4878-a48d-190419acfae8\" class=\"plotly-graph-div\" style=\"height:525px; width:100%;\"></div>            <script type=\"text/javascript\">                require([\"plotly\"], function(Plotly) {                    window.PLOTLYENV=window.PLOTLYENV || {};                                    if (document.getElementById(\"a8c97c33-b417-4878-a48d-190419acfae8\")) {                    Plotly.newPlot(                        \"a8c97c33-b417-4878-a48d-190419acfae8\",                        [{\"alignmentgroup\":\"True\",\"bingroup\":\"x\",\"hovertemplate\":\"time_diff=%{x}<br>count=%{y}<extra></extra>\",\"legendgroup\":\"\",\"marker\":{\"color\":\"#636efa\",\"pattern\":{\"shape\":\"\"}},\"name\":\"\",\"offsetgroup\":\"\",\"orientation\":\"v\",\"showlegend\":false,\"x\":[4.406931818181818,4.834016743060861,4.9100435178111645,4.888002994264507,1.0775000000000006,5.056908979908982,5.539095974049644,5.332870230882094,0.4960316207184654,5.746098269692698,4.654809848957186,0.41023643609047156,4.531929166666668,-0.06744099876572918,1.8402999999999992,5.693402286439049,5.1659189611450635,4.96847196428514,4.929674233126917,5.1120897648139305,5.158624895946733,5.527351903958326,4.828708234302731,4.5262581712912855,4.899038077731092,4.995559974282109,4.923518768704067,5.0122254726482645,5.23290482037336,5.239049170911301,4.45316316967633,4.252842770954537,4.859519688644685,5.032018429487177,2.7886607142857116,5.21726973353444,4.614999634380904,5.266414075855057,-0.30332628319392896,4.964690086261779,4.906407700939123,-0.02099211464490125,5.128834577356383,0.33893648438907675,-0.13697410593792014,4.658504806073559,4.784878632998332,5.146553122619842,5.240658697136233,4.754010712437424,4.830286733039639,5.032273010722513,5.246215125510595,5.253451058670002,4.760953091026622,5.117012874380524,4.55738419834308,0.2298554484501878,5.600643761054428,-10.064593822604913,-0.22333677312278155,4.710161495947297,5.392586291429392,4.397300281464464,4.65269996368918,6.00037713592522,-0.25783085163890007,-0.20067081876456783,4.583586172008673,1.2935416666666661],\"xaxis\":\"x\",\"yaxis\":\"y\",\"type\":\"histogram\"}],                        {\"template\":{\"data\":{\"histogram2dcontour\":[{\"type\":\"histogram2dcontour\",\"colorbar\":{\"outlinewidth\":0,\"ticks\":\"\"},\"colorscale\":[[0.0,\"#0d0887\"],[0.1111111111111111,\"#46039f\"],[0.2222222222222222,\"#7201a8\"],[0.3333333333333333,\"#9c179e\"],[0.4444444444444444,\"#bd3786\"],[0.5555555555555556,\"#d8576b\"],[0.6666666666666666,\"#ed7953\"],[0.7777777777777778,\"#fb9f3a\"],[0.8888888888888888,\"#fdca26\"],[1.0,\"#f0f921\"]]}],\"choropleth\":[{\"type\":\"choropleth\",\"colorbar\":{\"outlinewidth\":0,\"ticks\":\"\"}}],\"histogram2d\":[{\"type\":\"histogram2d\",\"colorbar\":{\"outlinewidth\":0,\"ticks\":\"\"},\"colorscale\":[[0.0,\"#0d0887\"],[0.1111111111111111,\"#46039f\"],[0.2222222222222222,\"#7201a8\"],[0.3333333333333333,\"#9c179e\"],[0.4444444444444444,\"#bd3786\"],[0.5555555555555556,\"#d8576b\"],[0.6666666666666666,\"#ed7953\"],[0.7777777777777778,\"#fb9f3a\"],[0.8888888888888888,\"#fdca26\"],[1.0,\"#f0f921\"]]}],\"heatmap\":[{\"type\":\"heatmap\",\"colorbar\":{\"outlinewidth\":0,\"ticks\":\"\"},\"colorscale\":[[0.0,\"#0d0887\"],[0.1111111111111111,\"#46039f\"],[0.2222222222222222,\"#7201a8\"],[0.3333333333333333,\"#9c179e\"],[0.4444444444444444,\"#bd3786\"],[0.5555555555555556,\"#d8576b\"],[0.6666666666666666,\"#ed7953\"],[0.7777777777777778,\"#fb9f3a\"],[0.8888888888888888,\"#fdca26\"],[1.0,\"#f0f921\"]]}],\"heatmapgl\":[{\"type\":\"heatmapgl\",\"colorbar\":{\"outlinewidth\":0,\"ticks\":\"\"},\"colorscale\":[[0.0,\"#0d0887\"],[0.1111111111111111,\"#46039f\"],[0.2222222222222222,\"#7201a8\"],[0.3333333333333333,\"#9c179e\"],[0.4444444444444444,\"#bd3786\"],[0.5555555555555556,\"#d8576b\"],[0.6666666666666666,\"#ed7953\"],[0.7777777777777778,\"#fb9f3a\"],[0.8888888888888888,\"#fdca26\"],[1.0,\"#f0f921\"]]}],\"contourcarpet\":[{\"type\":\"contourcarpet\",\"colorbar\":{\"outlinewidth\":0,\"ticks\":\"\"}}],\"contour\":[{\"type\":\"contour\",\"colorbar\":{\"outlinewidth\":0,\"ticks\":\"\"},\"colorscale\":[[0.0,\"#0d0887\"],[0.1111111111111111,\"#46039f\"],[0.2222222222222222,\"#7201a8\"],[0.3333333333333333,\"#9c179e\"],[0.4444444444444444,\"#bd3786\"],[0.5555555555555556,\"#d8576b\"],[0.6666666666666666,\"#ed7953\"],[0.7777777777777778,\"#fb9f3a\"],[0.8888888888888888,\"#fdca26\"],[1.0,\"#f0f921\"]]}],\"surface\":[{\"type\":\"surface\",\"colorbar\":{\"outlinewidth\":0,\"ticks\":\"\"},\"colorscale\":[[0.0,\"#0d0887\"],[0.1111111111111111,\"#46039f\"],[0.2222222222222222,\"#7201a8\"],[0.3333333333333333,\"#9c179e\"],[0.4444444444444444,\"#bd3786\"],[0.5555555555555556,\"#d8576b\"],[0.6666666666666666,\"#ed7953\"],[0.7777777777777778,\"#fb9f3a\"],[0.8888888888888888,\"#fdca26\"],[1.0,\"#f0f921\"]]}],\"mesh3d\":[{\"type\":\"mesh3d\",\"colorbar\":{\"outlinewidth\":0,\"ticks\":\"\"}}],\"scatter\":[{\"fillpattern\":{\"fillmode\":\"overlay\",\"size\":10,\"solidity\":0.2},\"type\":\"scatter\"}],\"parcoords\":[{\"type\":\"parcoords\",\"line\":{\"colorbar\":{\"outlinewidth\":0,\"ticks\":\"\"}}}],\"scatterpolargl\":[{\"type\":\"scatterpolargl\",\"marker\":{\"colorbar\":{\"outlinewidth\":0,\"ticks\":\"\"}}}],\"bar\":[{\"error_x\":{\"color\":\"#2a3f5f\"},\"error_y\":{\"color\":\"#2a3f5f\"},\"marker\":{\"line\":{\"color\":\"#E5ECF6\",\"width\":0.5},\"pattern\":{\"fillmode\":\"overlay\",\"size\":10,\"solidity\":0.2}},\"type\":\"bar\"}],\"scattergeo\":[{\"type\":\"scattergeo\",\"marker\":{\"colorbar\":{\"outlinewidth\":0,\"ticks\":\"\"}}}],\"scatterpolar\":[{\"type\":\"scatterpolar\",\"marker\":{\"colorbar\":{\"outlinewidth\":0,\"ticks\":\"\"}}}],\"histogram\":[{\"marker\":{\"pattern\":{\"fillmode\":\"overlay\",\"size\":10,\"solidity\":0.2}},\"type\":\"histogram\"}],\"scattergl\":[{\"type\":\"scattergl\",\"marker\":{\"colorbar\":{\"outlinewidth\":0,\"ticks\":\"\"}}}],\"scatter3d\":[{\"type\":\"scatter3d\",\"line\":{\"colorbar\":{\"outlinewidth\":0,\"ticks\":\"\"}},\"marker\":{\"colorbar\":{\"outlinewidth\":0,\"ticks\":\"\"}}}],\"scattermapbox\":[{\"type\":\"scattermapbox\",\"marker\":{\"colorbar\":{\"outlinewidth\":0,\"ticks\":\"\"}}}],\"scatterternary\":[{\"type\":\"scatterternary\",\"marker\":{\"colorbar\":{\"outlinewidth\":0,\"ticks\":\"\"}}}],\"scattercarpet\":[{\"type\":\"scattercarpet\",\"marker\":{\"colorbar\":{\"outlinewidth\":0,\"ticks\":\"\"}}}],\"carpet\":[{\"aaxis\":{\"endlinecolor\":\"#2a3f5f\",\"gridcolor\":\"white\",\"linecolor\":\"white\",\"minorgridcolor\":\"white\",\"startlinecolor\":\"#2a3f5f\"},\"baxis\":{\"endlinecolor\":\"#2a3f5f\",\"gridcolor\":\"white\",\"linecolor\":\"white\",\"minorgridcolor\":\"white\",\"startlinecolor\":\"#2a3f5f\"},\"type\":\"carpet\"}],\"table\":[{\"cells\":{\"fill\":{\"color\":\"#EBF0F8\"},\"line\":{\"color\":\"white\"}},\"header\":{\"fill\":{\"color\":\"#C8D4E3\"},\"line\":{\"color\":\"white\"}},\"type\":\"table\"}],\"barpolar\":[{\"marker\":{\"line\":{\"color\":\"#E5ECF6\",\"width\":0.5},\"pattern\":{\"fillmode\":\"overlay\",\"size\":10,\"solidity\":0.2}},\"type\":\"barpolar\"}],\"pie\":[{\"automargin\":true,\"type\":\"pie\"}]},\"layout\":{\"autotypenumbers\":\"strict\",\"colorway\":[\"#636efa\",\"#EF553B\",\"#00cc96\",\"#ab63fa\",\"#FFA15A\",\"#19d3f3\",\"#FF6692\",\"#B6E880\",\"#FF97FF\",\"#FECB52\"],\"font\":{\"color\":\"#2a3f5f\"},\"hovermode\":\"closest\",\"hoverlabel\":{\"align\":\"left\"},\"paper_bgcolor\":\"white\",\"plot_bgcolor\":\"#E5ECF6\",\"polar\":{\"bgcolor\":\"#E5ECF6\",\"angularaxis\":{\"gridcolor\":\"white\",\"linecolor\":\"white\",\"ticks\":\"\"},\"radialaxis\":{\"gridcolor\":\"white\",\"linecolor\":\"white\",\"ticks\":\"\"}},\"ternary\":{\"bgcolor\":\"#E5ECF6\",\"aaxis\":{\"gridcolor\":\"white\",\"linecolor\":\"white\",\"ticks\":\"\"},\"baxis\":{\"gridcolor\":\"white\",\"linecolor\":\"white\",\"ticks\":\"\"},\"caxis\":{\"gridcolor\":\"white\",\"linecolor\":\"white\",\"ticks\":\"\"}},\"coloraxis\":{\"colorbar\":{\"outlinewidth\":0,\"ticks\":\"\"}},\"colorscale\":{\"sequential\":[[0.0,\"#0d0887\"],[0.1111111111111111,\"#46039f\"],[0.2222222222222222,\"#7201a8\"],[0.3333333333333333,\"#9c179e\"],[0.4444444444444444,\"#bd3786\"],[0.5555555555555556,\"#d8576b\"],[0.6666666666666666,\"#ed7953\"],[0.7777777777777778,\"#fb9f3a\"],[0.8888888888888888,\"#fdca26\"],[1.0,\"#f0f921\"]],\"sequentialminus\":[[0.0,\"#0d0887\"],[0.1111111111111111,\"#46039f\"],[0.2222222222222222,\"#7201a8\"],[0.3333333333333333,\"#9c179e\"],[0.4444444444444444,\"#bd3786\"],[0.5555555555555556,\"#d8576b\"],[0.6666666666666666,\"#ed7953\"],[0.7777777777777778,\"#fb9f3a\"],[0.8888888888888888,\"#fdca26\"],[1.0,\"#f0f921\"]],\"diverging\":[[0,\"#8e0152\"],[0.1,\"#c51b7d\"],[0.2,\"#de77ae\"],[0.3,\"#f1b6da\"],[0.4,\"#fde0ef\"],[0.5,\"#f7f7f7\"],[0.6,\"#e6f5d0\"],[0.7,\"#b8e186\"],[0.8,\"#7fbc41\"],[0.9,\"#4d9221\"],[1,\"#276419\"]]},\"xaxis\":{\"gridcolor\":\"white\",\"linecolor\":\"white\",\"ticks\":\"\",\"title\":{\"standoff\":15},\"zerolinecolor\":\"white\",\"automargin\":true,\"zerolinewidth\":2},\"yaxis\":{\"gridcolor\":\"white\",\"linecolor\":\"white\",\"ticks\":\"\",\"title\":{\"standoff\":15},\"zerolinecolor\":\"white\",\"automargin\":true,\"zerolinewidth\":2},\"scene\":{\"xaxis\":{\"backgroundcolor\":\"#E5ECF6\",\"gridcolor\":\"white\",\"linecolor\":\"white\",\"showbackground\":true,\"ticks\":\"\",\"zerolinecolor\":\"white\",\"gridwidth\":2},\"yaxis\":{\"backgroundcolor\":\"#E5ECF6\",\"gridcolor\":\"white\",\"linecolor\":\"white\",\"showbackground\":true,\"ticks\":\"\",\"zerolinecolor\":\"white\",\"gridwidth\":2},\"zaxis\":{\"backgroundcolor\":\"#E5ECF6\",\"gridcolor\":\"white\",\"linecolor\":\"white\",\"showbackground\":true,\"ticks\":\"\",\"zerolinecolor\":\"white\",\"gridwidth\":2}},\"shapedefaults\":{\"line\":{\"color\":\"#2a3f5f\"}},\"annotationdefaults\":{\"arrowcolor\":\"#2a3f5f\",\"arrowhead\":0,\"arrowwidth\":1},\"geo\":{\"bgcolor\":\"white\",\"landcolor\":\"#E5ECF6\",\"subunitcolor\":\"white\",\"showland\":true,\"showlakes\":true,\"lakecolor\":\"white\"},\"title\":{\"x\":0.05},\"mapbox\":{\"style\":\"light\"}}},\"xaxis\":{\"anchor\":\"y\",\"domain\":[0.0,1.0],\"title\":{\"text\":\"time_diff\"}},\"yaxis\":{\"anchor\":\"x\",\"domain\":[0.0,1.0],\"title\":{\"text\":\"count\"}},\"legend\":{\"tracegroupgap\":0},\"margin\":{\"t\":60},\"barmode\":\"relative\"},                        {\"responsive\": true}                    ).then(function(){\n",
       "                            \n",
       "var gd = document.getElementById('a8c97c33-b417-4878-a48d-190419acfae8');\n",
       "var x = new MutationObserver(function (mutations, observer) {{\n",
       "        var display = window.getComputedStyle(gd).display;\n",
       "        if (!display || display === 'none') {{\n",
       "            console.log([gd, 'removed!']);\n",
       "            Plotly.purge(gd);\n",
       "            observer.disconnect();\n",
       "        }}\n",
       "}});\n",
       "\n",
       "// Listen for the removal of the full notebook cells\n",
       "var notebookContainer = gd.closest('#notebook-container');\n",
       "if (notebookContainer) {{\n",
       "    x.observe(notebookContainer, {childList: true});\n",
       "}}\n",
       "\n",
       "// Listen for the clearing of the current output cell\n",
       "var outputEl = gd.closest('.output');\n",
       "if (outputEl) {{\n",
       "    x.observe(outputEl, {childList: true});\n",
       "}}\n",
       "\n",
       "                        })                };                });            </script>        </div>"
      ]
     },
     "metadata": {},
     "output_type": "display_data"
    }
   ],
   "source": [
    "fin_df['time_diff'] = fin_df.len_after - fin_df.len_before\n",
    "fig = px.histogram(fin_df, x = 'time_diff') \n",
    "fig.show()"
   ]
  },
  {
   "cell_type": "markdown",
   "id": "bf797042",
   "metadata": {},
   "source": [
    "### * В целом видно, что большая часть оружия, точнее комбинации оружия стали слабее def>3.5. \n",
    "### * Небольшая часть комбинаций стала слегка слабее\n",
    "### * И есть один набор который сильно уменьшил время в бою после обновлении(возможно выброс)"
   ]
  },
  {
   "cell_type": "code",
   "execution_count": 148,
   "id": "053fef62",
   "metadata": {},
   "outputs": [
    {
     "data": {
      "text/html": [
       "<div>\n",
       "<style scoped>\n",
       "    .dataframe tbody tr th:only-of-type {\n",
       "        vertical-align: middle;\n",
       "    }\n",
       "\n",
       "    .dataframe tbody tr th {\n",
       "        vertical-align: top;\n",
       "    }\n",
       "\n",
       "    .dataframe thead th {\n",
       "        text-align: right;\n",
       "    }\n",
       "</style>\n",
       "<table border=\"1\" class=\"dataframe\">\n",
       "  <thead>\n",
       "    <tr style=\"text-align: right;\">\n",
       "      <th></th>\n",
       "      <th>bul_count</th>\n",
       "      <th>bow_count</th>\n",
       "      <th>sword_count</th>\n",
       "      <th>axe_count</th>\n",
       "      <th>pos_count</th>\n",
       "      <th>time_diff</th>\n",
       "    </tr>\n",
       "  </thead>\n",
       "  <tbody>\n",
       "    <tr>\n",
       "      <th>59</th>\n",
       "      <td>2</td>\n",
       "      <td>0</td>\n",
       "      <td>1</td>\n",
       "      <td>1</td>\n",
       "      <td>0</td>\n",
       "      <td>-10.064594</td>\n",
       "    </tr>\n",
       "  </tbody>\n",
       "</table>\n",
       "</div>"
      ],
      "text/plain": [
       "    bul_count  bow_count  sword_count  axe_count  pos_count  time_diff\n",
       "59          2          0            1          1          0 -10.064594"
      ]
     },
     "execution_count": 148,
     "metadata": {},
     "output_type": "execute_result"
    }
   ],
   "source": [
    "dif_df = fin_df.drop(columns = ['len_after', 'len_before'])\n",
    "dif_df.query('time_diff < -1') "
   ]
  },
  {
   "cell_type": "markdown",
   "id": "cbdc7f81",
   "metadata": {},
   "source": [
    "#### две булавы, топор и меч оказалось плохой комбинацией, посмотрим на схожие наборы"
   ]
  },
  {
   "cell_type": "code",
   "execution_count": 158,
   "id": "56194b81",
   "metadata": {},
   "outputs": [
    {
     "data": {
      "text/html": [
       "<div>\n",
       "<style scoped>\n",
       "    .dataframe tbody tr th:only-of-type {\n",
       "        vertical-align: middle;\n",
       "    }\n",
       "\n",
       "    .dataframe tbody tr th {\n",
       "        vertical-align: top;\n",
       "    }\n",
       "\n",
       "    .dataframe thead th {\n",
       "        text-align: right;\n",
       "    }\n",
       "</style>\n",
       "<table border=\"1\" class=\"dataframe\">\n",
       "  <thead>\n",
       "    <tr style=\"text-align: right;\">\n",
       "      <th></th>\n",
       "      <th>bul_count</th>\n",
       "      <th>bow_count</th>\n",
       "      <th>sword_count</th>\n",
       "      <th>axe_count</th>\n",
       "      <th>pos_count</th>\n",
       "      <th>time_diff</th>\n",
       "    </tr>\n",
       "  </thead>\n",
       "  <tbody>\n",
       "    <tr>\n",
       "      <th>56</th>\n",
       "      <td>2</td>\n",
       "      <td>0</td>\n",
       "      <td>0</td>\n",
       "      <td>1</td>\n",
       "      <td>1</td>\n",
       "      <td>4.557384</td>\n",
       "    </tr>\n",
       "    <tr>\n",
       "      <th>62</th>\n",
       "      <td>2</td>\n",
       "      <td>1</td>\n",
       "      <td>0</td>\n",
       "      <td>1</td>\n",
       "      <td>0</td>\n",
       "      <td>5.392586</td>\n",
       "    </tr>\n",
       "  </tbody>\n",
       "</table>\n",
       "</div>"
      ],
      "text/plain": [
       "    bul_count  bow_count  sword_count  axe_count  pos_count  time_diff\n",
       "56          2          0            0          1          1   4.557384\n",
       "62          2          1            0          1          0   5.392586"
      ]
     },
     "execution_count": 158,
     "metadata": {},
     "output_type": "execute_result"
    }
   ],
   "source": [
    "dif_df.query('bul_count == 2 and axe_count == 1 and sword_count != 1') "
   ]
  },
  {
   "cell_type": "code",
   "execution_count": 159,
   "id": "146baa48",
   "metadata": {},
   "outputs": [
    {
     "data": {
      "text/html": [
       "<div>\n",
       "<style scoped>\n",
       "    .dataframe tbody tr th:only-of-type {\n",
       "        vertical-align: middle;\n",
       "    }\n",
       "\n",
       "    .dataframe tbody tr th {\n",
       "        vertical-align: top;\n",
       "    }\n",
       "\n",
       "    .dataframe thead th {\n",
       "        text-align: right;\n",
       "    }\n",
       "</style>\n",
       "<table border=\"1\" class=\"dataframe\">\n",
       "  <thead>\n",
       "    <tr style=\"text-align: right;\">\n",
       "      <th></th>\n",
       "      <th>bul_count</th>\n",
       "      <th>bow_count</th>\n",
       "      <th>sword_count</th>\n",
       "      <th>axe_count</th>\n",
       "      <th>pos_count</th>\n",
       "      <th>time_diff</th>\n",
       "    </tr>\n",
       "  </thead>\n",
       "  <tbody>\n",
       "    <tr>\n",
       "      <th>58</th>\n",
       "      <td>2</td>\n",
       "      <td>0</td>\n",
       "      <td>1</td>\n",
       "      <td>0</td>\n",
       "      <td>1</td>\n",
       "      <td>5.600644</td>\n",
       "    </tr>\n",
       "    <tr>\n",
       "      <th>63</th>\n",
       "      <td>2</td>\n",
       "      <td>1</td>\n",
       "      <td>1</td>\n",
       "      <td>0</td>\n",
       "      <td>0</td>\n",
       "      <td>4.397300</td>\n",
       "    </tr>\n",
       "  </tbody>\n",
       "</table>\n",
       "</div>"
      ],
      "text/plain": [
       "    bul_count  bow_count  sword_count  axe_count  pos_count  time_diff\n",
       "58          2          0            1          0          1   5.600644\n",
       "63          2          1            1          0          0   4.397300"
      ]
     },
     "execution_count": 159,
     "metadata": {},
     "output_type": "execute_result"
    }
   ],
   "source": [
    "dif_df.query('bul_count == 2 and axe_count != 1 and sword_count == 1') "
   ]
  },
  {
   "cell_type": "code",
   "execution_count": 161,
   "id": "ec06cc83",
   "metadata": {},
   "outputs": [
    {
     "data": {
      "text/html": [
       "<div>\n",
       "<style scoped>\n",
       "    .dataframe tbody tr th:only-of-type {\n",
       "        vertical-align: middle;\n",
       "    }\n",
       "\n",
       "    .dataframe tbody tr th {\n",
       "        vertical-align: top;\n",
       "    }\n",
       "\n",
       "    .dataframe thead th {\n",
       "        text-align: right;\n",
       "    }\n",
       "</style>\n",
       "<table border=\"1\" class=\"dataframe\">\n",
       "  <thead>\n",
       "    <tr style=\"text-align: right;\">\n",
       "      <th></th>\n",
       "      <th>bul_count</th>\n",
       "      <th>bow_count</th>\n",
       "      <th>sword_count</th>\n",
       "      <th>axe_count</th>\n",
       "      <th>pos_count</th>\n",
       "      <th>time_diff</th>\n",
       "    </tr>\n",
       "  </thead>\n",
       "  <tbody>\n",
       "    <tr>\n",
       "      <th>40</th>\n",
       "      <td>1</td>\n",
       "      <td>0</td>\n",
       "      <td>1</td>\n",
       "      <td>1</td>\n",
       "      <td>1</td>\n",
       "      <td>4.906408</td>\n",
       "    </tr>\n",
       "    <tr>\n",
       "      <th>49</th>\n",
       "      <td>1</td>\n",
       "      <td>1</td>\n",
       "      <td>1</td>\n",
       "      <td>1</td>\n",
       "      <td>0</td>\n",
       "      <td>4.754011</td>\n",
       "    </tr>\n",
       "  </tbody>\n",
       "</table>\n",
       "</div>"
      ],
      "text/plain": [
       "    bul_count  bow_count  sword_count  axe_count  pos_count  time_diff\n",
       "40          1          0            1          1          1   4.906408\n",
       "49          1          1            1          1          0   4.754011"
      ]
     },
     "execution_count": 161,
     "metadata": {},
     "output_type": "execute_result"
    }
   ],
   "source": [
    "dif_df.query('bul_count in [1,3] and axe_count == 1 and sword_count == 1') "
   ]
  },
  {
   "cell_type": "markdown",
   "id": "c29bb0ef",
   "metadata": {},
   "source": [
    "### Все похожие наборы (отличающиеся от исходного на 1 оружие), наоборот имеют заметное увеличения времени боя, значит это скорее всего выброс, либо какая-то безумная синергия. Но лучше это выброс убрать"
   ]
  },
  {
   "cell_type": "code",
   "execution_count": 229,
   "id": "6c8d8270",
   "metadata": {},
   "outputs": [],
   "source": [
    "dif_df = dif_df.drop(59)"
   ]
  },
  {
   "cell_type": "code",
   "execution_count": 230,
   "id": "acab17fb",
   "metadata": {},
   "outputs": [
    {
     "data": {
      "text/html": [
       "<div>\n",
       "<style scoped>\n",
       "    .dataframe tbody tr th:only-of-type {\n",
       "        vertical-align: middle;\n",
       "    }\n",
       "\n",
       "    .dataframe tbody tr th {\n",
       "        vertical-align: top;\n",
       "    }\n",
       "\n",
       "    .dataframe thead th {\n",
       "        text-align: right;\n",
       "    }\n",
       "</style>\n",
       "<table border=\"1\" class=\"dataframe\">\n",
       "  <thead>\n",
       "    <tr style=\"text-align: right;\">\n",
       "      <th></th>\n",
       "      <th>bul_count</th>\n",
       "      <th>bow_count</th>\n",
       "      <th>sword_count</th>\n",
       "      <th>axe_count</th>\n",
       "      <th>pos_count</th>\n",
       "      <th>time_diff</th>\n",
       "    </tr>\n",
       "  </thead>\n",
       "  <tbody>\n",
       "    <tr>\n",
       "      <th>count</th>\n",
       "      <td>6.000000</td>\n",
       "      <td>6.000000</td>\n",
       "      <td>6.000000</td>\n",
       "      <td>6.00000</td>\n",
       "      <td>6.000000</td>\n",
       "      <td>6.000000</td>\n",
       "    </tr>\n",
       "    <tr>\n",
       "      <th>mean</th>\n",
       "      <td>0.833333</td>\n",
       "      <td>0.333333</td>\n",
       "      <td>0.833333</td>\n",
       "      <td>0.50000</td>\n",
       "      <td>1.500000</td>\n",
       "      <td>5.684495</td>\n",
       "    </tr>\n",
       "    <tr>\n",
       "      <th>std</th>\n",
       "      <td>1.329160</td>\n",
       "      <td>0.516398</td>\n",
       "      <td>0.752773</td>\n",
       "      <td>0.83666</td>\n",
       "      <td>1.048809</td>\n",
       "      <td>0.176930</td>\n",
       "    </tr>\n",
       "    <tr>\n",
       "      <th>min</th>\n",
       "      <td>0.000000</td>\n",
       "      <td>0.000000</td>\n",
       "      <td>0.000000</td>\n",
       "      <td>0.00000</td>\n",
       "      <td>0.000000</td>\n",
       "      <td>5.527352</td>\n",
       "    </tr>\n",
       "    <tr>\n",
       "      <th>25%</th>\n",
       "      <td>0.000000</td>\n",
       "      <td>0.000000</td>\n",
       "      <td>0.250000</td>\n",
       "      <td>0.00000</td>\n",
       "      <td>1.000000</td>\n",
       "      <td>5.554483</td>\n",
       "    </tr>\n",
       "    <tr>\n",
       "      <th>50%</th>\n",
       "      <td>0.000000</td>\n",
       "      <td>0.000000</td>\n",
       "      <td>1.000000</td>\n",
       "      <td>0.00000</td>\n",
       "      <td>1.500000</td>\n",
       "      <td>5.647023</td>\n",
       "    </tr>\n",
       "    <tr>\n",
       "      <th>75%</th>\n",
       "      <td>1.500000</td>\n",
       "      <td>0.750000</td>\n",
       "      <td>1.000000</td>\n",
       "      <td>0.75000</td>\n",
       "      <td>2.000000</td>\n",
       "      <td>5.732924</td>\n",
       "    </tr>\n",
       "    <tr>\n",
       "      <th>max</th>\n",
       "      <td>3.000000</td>\n",
       "      <td>1.000000</td>\n",
       "      <td>2.000000</td>\n",
       "      <td>2.00000</td>\n",
       "      <td>3.000000</td>\n",
       "      <td>6.000377</td>\n",
       "    </tr>\n",
       "  </tbody>\n",
       "</table>\n",
       "</div>"
      ],
      "text/plain": [
       "       bul_count  bow_count  sword_count  axe_count  pos_count  time_diff\n",
       "count   6.000000   6.000000     6.000000    6.00000   6.000000   6.000000\n",
       "mean    0.833333   0.333333     0.833333    0.50000   1.500000   5.684495\n",
       "std     1.329160   0.516398     0.752773    0.83666   1.048809   0.176930\n",
       "min     0.000000   0.000000     0.000000    0.00000   0.000000   5.527352\n",
       "25%     0.000000   0.000000     0.250000    0.00000   1.000000   5.554483\n",
       "50%     0.000000   0.000000     1.000000    0.00000   1.500000   5.647023\n",
       "75%     1.500000   0.750000     1.000000    0.75000   2.000000   5.732924\n",
       "max     3.000000   1.000000     2.000000    2.00000   3.000000   6.000377"
      ]
     },
     "execution_count": 230,
     "metadata": {},
     "output_type": "execute_result"
    }
   ],
   "source": [
    "dif_df.query('time_diff>5.5').describe()"
   ]
  },
  {
   "cell_type": "code",
   "execution_count": 231,
   "id": "712a48ce",
   "metadata": {},
   "outputs": [
    {
     "data": {
      "text/html": [
       "<div>\n",
       "<style scoped>\n",
       "    .dataframe tbody tr th:only-of-type {\n",
       "        vertical-align: middle;\n",
       "    }\n",
       "\n",
       "    .dataframe tbody tr th {\n",
       "        vertical-align: top;\n",
       "    }\n",
       "\n",
       "    .dataframe thead th {\n",
       "        text-align: right;\n",
       "    }\n",
       "</style>\n",
       "<table border=\"1\" class=\"dataframe\">\n",
       "  <thead>\n",
       "    <tr style=\"text-align: right;\">\n",
       "      <th></th>\n",
       "      <th>bul_count</th>\n",
       "      <th>bow_count</th>\n",
       "      <th>sword_count</th>\n",
       "      <th>axe_count</th>\n",
       "      <th>pos_count</th>\n",
       "      <th>time_diff</th>\n",
       "    </tr>\n",
       "  </thead>\n",
       "  <tbody>\n",
       "    <tr>\n",
       "      <th>6</th>\n",
       "      <td>0</td>\n",
       "      <td>0</td>\n",
       "      <td>1</td>\n",
       "      <td>1</td>\n",
       "      <td>2</td>\n",
       "      <td>5.539096</td>\n",
       "    </tr>\n",
       "    <tr>\n",
       "      <th>9</th>\n",
       "      <td>0</td>\n",
       "      <td>0</td>\n",
       "      <td>2</td>\n",
       "      <td>0</td>\n",
       "      <td>2</td>\n",
       "      <td>5.746098</td>\n",
       "    </tr>\n",
       "    <tr>\n",
       "      <th>15</th>\n",
       "      <td>0</td>\n",
       "      <td>1</td>\n",
       "      <td>0</td>\n",
       "      <td>0</td>\n",
       "      <td>3</td>\n",
       "      <td>5.693402</td>\n",
       "    </tr>\n",
       "    <tr>\n",
       "      <th>21</th>\n",
       "      <td>0</td>\n",
       "      <td>1</td>\n",
       "      <td>1</td>\n",
       "      <td>2</td>\n",
       "      <td>0</td>\n",
       "      <td>5.527352</td>\n",
       "    </tr>\n",
       "    <tr>\n",
       "      <th>58</th>\n",
       "      <td>2</td>\n",
       "      <td>0</td>\n",
       "      <td>1</td>\n",
       "      <td>0</td>\n",
       "      <td>1</td>\n",
       "      <td>5.600644</td>\n",
       "    </tr>\n",
       "    <tr>\n",
       "      <th>65</th>\n",
       "      <td>3</td>\n",
       "      <td>0</td>\n",
       "      <td>0</td>\n",
       "      <td>0</td>\n",
       "      <td>1</td>\n",
       "      <td>6.000377</td>\n",
       "    </tr>\n",
       "  </tbody>\n",
       "</table>\n",
       "</div>"
      ],
      "text/plain": [
       "    bul_count  bow_count  sword_count  axe_count  pos_count  time_diff\n",
       "6           0          0            1          1          2   5.539096\n",
       "9           0          0            2          0          2   5.746098\n",
       "15          0          1            0          0          3   5.693402\n",
       "21          0          1            1          2          0   5.527352\n",
       "58          2          0            1          0          1   5.600644\n",
       "65          3          0            0          0          1   6.000377"
      ]
     },
     "execution_count": 231,
     "metadata": {},
     "output_type": "execute_result"
    }
   ],
   "source": [
    "dif_df.query('time_diff>5.5')"
   ]
  },
  {
   "cell_type": "code",
   "execution_count": 265,
   "id": "b1afcd8c",
   "metadata": {},
   "outputs": [
    {
     "data": {
      "text/plain": [
       "5.068836228267768"
      ]
     },
     "execution_count": 265,
     "metadata": {},
     "output_type": "execute_result"
    }
   ],
   "source": [
    "dif_df.query('pos_count > 1').time_diff.mean()"
   ]
  },
  {
   "cell_type": "code",
   "execution_count": 266,
   "id": "8d297a8c",
   "metadata": {},
   "outputs": [
    {
     "data": {
      "text/plain": [
       "3.191394174858108"
      ]
     },
     "execution_count": 266,
     "metadata": {},
     "output_type": "execute_result"
    }
   ],
   "source": [
    "dif_df.query('axe_count > 1').time_diff.mean()"
   ]
  },
  {
   "cell_type": "code",
   "execution_count": 267,
   "id": "610df971",
   "metadata": {},
   "outputs": [
    {
     "data": {
      "text/plain": [
       "3.0507231527578087"
      ]
     },
     "execution_count": 267,
     "metadata": {},
     "output_type": "execute_result"
    }
   ],
   "source": [
    "dif_df.query('sword_count > 1').time_diff.mean()"
   ]
  },
  {
   "cell_type": "code",
   "execution_count": 268,
   "id": "e7c16d01",
   "metadata": {},
   "outputs": [
    {
     "data": {
      "text/plain": [
       "4.782337015305762"
      ]
     },
     "execution_count": 268,
     "metadata": {},
     "output_type": "execute_result"
    }
   ],
   "source": [
    "dif_df.query('bow_count > 1').time_diff.mean()"
   ]
  },
  {
   "cell_type": "code",
   "execution_count": 269,
   "id": "18555217",
   "metadata": {},
   "outputs": [
    {
     "data": {
      "text/plain": [
       "3.2752364889880616"
      ]
     },
     "execution_count": 269,
     "metadata": {},
     "output_type": "execute_result"
    }
   ],
   "source": [
    "dif_df.query('bul_count > 1').time_diff.mean()"
   ]
  },
  {
   "cell_type": "markdown",
   "id": "dffa1e76",
   "metadata": {},
   "source": [
    "### Видно, что самым пострадавшим оружием в среднем является \"посох\""
   ]
  },
  {
   "cell_type": "code",
   "execution_count": 282,
   "id": "a2b6f031",
   "metadata": {},
   "outputs": [
    {
     "data": {
      "text/html": [
       "<div>\n",
       "<style scoped>\n",
       "    .dataframe tbody tr th:only-of-type {\n",
       "        vertical-align: middle;\n",
       "    }\n",
       "\n",
       "    .dataframe tbody tr th {\n",
       "        vertical-align: top;\n",
       "    }\n",
       "\n",
       "    .dataframe thead th {\n",
       "        text-align: right;\n",
       "    }\n",
       "</style>\n",
       "<table border=\"1\" class=\"dataframe\">\n",
       "  <thead>\n",
       "    <tr style=\"text-align: right;\">\n",
       "      <th></th>\n",
       "      <th>bul_count</th>\n",
       "      <th>bow_count</th>\n",
       "      <th>sword_count</th>\n",
       "      <th>axe_count</th>\n",
       "      <th>pos_count</th>\n",
       "      <th>time_diff</th>\n",
       "    </tr>\n",
       "  </thead>\n",
       "  <tbody>\n",
       "    <tr>\n",
       "      <th>count</th>\n",
       "      <td>14.000000</td>\n",
       "      <td>14.0</td>\n",
       "      <td>14.000000</td>\n",
       "      <td>14.000000</td>\n",
       "      <td>14.0</td>\n",
       "      <td>14.000000</td>\n",
       "    </tr>\n",
       "    <tr>\n",
       "      <th>mean</th>\n",
       "      <td>1.285714</td>\n",
       "      <td>0.0</td>\n",
       "      <td>1.357143</td>\n",
       "      <td>1.357143</td>\n",
       "      <td>0.0</td>\n",
       "      <td>0.319702</td>\n",
       "    </tr>\n",
       "    <tr>\n",
       "      <th>std</th>\n",
       "      <td>1.325987</td>\n",
       "      <td>0.0</td>\n",
       "      <td>1.336306</td>\n",
       "      <td>1.336306</td>\n",
       "      <td>0.0</td>\n",
       "      <td>0.658931</td>\n",
       "    </tr>\n",
       "    <tr>\n",
       "      <th>min</th>\n",
       "      <td>0.000000</td>\n",
       "      <td>0.0</td>\n",
       "      <td>0.000000</td>\n",
       "      <td>0.000000</td>\n",
       "      <td>0.0</td>\n",
       "      <td>-0.303326</td>\n",
       "    </tr>\n",
       "    <tr>\n",
       "      <th>25%</th>\n",
       "      <td>0.000000</td>\n",
       "      <td>0.0</td>\n",
       "      <td>0.000000</td>\n",
       "      <td>0.000000</td>\n",
       "      <td>0.0</td>\n",
       "      <td>-0.184747</td>\n",
       "    </tr>\n",
       "    <tr>\n",
       "      <th>50%</th>\n",
       "      <td>1.000000</td>\n",
       "      <td>0.0</td>\n",
       "      <td>1.000000</td>\n",
       "      <td>1.000000</td>\n",
       "      <td>0.0</td>\n",
       "      <td>0.104432</td>\n",
       "    </tr>\n",
       "    <tr>\n",
       "      <th>75%</th>\n",
       "      <td>2.000000</td>\n",
       "      <td>0.0</td>\n",
       "      <td>2.000000</td>\n",
       "      <td>2.000000</td>\n",
       "      <td>0.0</td>\n",
       "      <td>0.474583</td>\n",
       "    </tr>\n",
       "    <tr>\n",
       "      <th>max</th>\n",
       "      <td>4.000000</td>\n",
       "      <td>0.0</td>\n",
       "      <td>4.000000</td>\n",
       "      <td>4.000000</td>\n",
       "      <td>0.0</td>\n",
       "      <td>1.840300</td>\n",
       "    </tr>\n",
       "  </tbody>\n",
       "</table>\n",
       "</div>"
      ],
      "text/plain": [
       "       bul_count  bow_count  sword_count  axe_count  pos_count  time_diff\n",
       "count  14.000000       14.0    14.000000  14.000000       14.0  14.000000\n",
       "mean    1.285714        0.0     1.357143   1.357143        0.0   0.319702\n",
       "std     1.325987        0.0     1.336306   1.336306        0.0   0.658931\n",
       "min     0.000000        0.0     0.000000   0.000000        0.0  -0.303326\n",
       "25%     0.000000        0.0     0.000000   0.000000        0.0  -0.184747\n",
       "50%     1.000000        0.0     1.000000   1.000000        0.0   0.104432\n",
       "75%     2.000000        0.0     2.000000   2.000000        0.0   0.474583\n",
       "max     4.000000        0.0     4.000000   4.000000        0.0   1.840300"
      ]
     },
     "execution_count": 282,
     "metadata": {},
     "output_type": "execute_result"
    }
   ],
   "source": [
    "dif_df.query('-1<time_diff<2.6').describe()"
   ]
  },
  {
   "cell_type": "code",
   "execution_count": 283,
   "id": "80886114",
   "metadata": {},
   "outputs": [
    {
     "data": {
      "text/html": [
       "<div>\n",
       "<style scoped>\n",
       "    .dataframe tbody tr th:only-of-type {\n",
       "        vertical-align: middle;\n",
       "    }\n",
       "\n",
       "    .dataframe tbody tr th {\n",
       "        vertical-align: top;\n",
       "    }\n",
       "\n",
       "    .dataframe thead th {\n",
       "        text-align: right;\n",
       "    }\n",
       "</style>\n",
       "<table border=\"1\" class=\"dataframe\">\n",
       "  <thead>\n",
       "    <tr style=\"text-align: right;\">\n",
       "      <th></th>\n",
       "      <th>bul_count</th>\n",
       "      <th>bow_count</th>\n",
       "      <th>sword_count</th>\n",
       "      <th>axe_count</th>\n",
       "      <th>pos_count</th>\n",
       "      <th>time_diff</th>\n",
       "    </tr>\n",
       "  </thead>\n",
       "  <tbody>\n",
       "    <tr>\n",
       "      <th>4</th>\n",
       "      <td>0</td>\n",
       "      <td>0</td>\n",
       "      <td>0</td>\n",
       "      <td>4</td>\n",
       "      <td>0</td>\n",
       "      <td>1.077500</td>\n",
       "    </tr>\n",
       "    <tr>\n",
       "      <th>8</th>\n",
       "      <td>0</td>\n",
       "      <td>0</td>\n",
       "      <td>1</td>\n",
       "      <td>3</td>\n",
       "      <td>0</td>\n",
       "      <td>0.496032</td>\n",
       "    </tr>\n",
       "    <tr>\n",
       "      <th>11</th>\n",
       "      <td>0</td>\n",
       "      <td>0</td>\n",
       "      <td>2</td>\n",
       "      <td>2</td>\n",
       "      <td>0</td>\n",
       "      <td>0.410236</td>\n",
       "    </tr>\n",
       "    <tr>\n",
       "      <th>13</th>\n",
       "      <td>0</td>\n",
       "      <td>0</td>\n",
       "      <td>3</td>\n",
       "      <td>1</td>\n",
       "      <td>0</td>\n",
       "      <td>-0.067441</td>\n",
       "    </tr>\n",
       "    <tr>\n",
       "      <th>14</th>\n",
       "      <td>0</td>\n",
       "      <td>0</td>\n",
       "      <td>4</td>\n",
       "      <td>0</td>\n",
       "      <td>0</td>\n",
       "      <td>1.840300</td>\n",
       "    </tr>\n",
       "    <tr>\n",
       "      <th>38</th>\n",
       "      <td>1</td>\n",
       "      <td>0</td>\n",
       "      <td>0</td>\n",
       "      <td>3</td>\n",
       "      <td>0</td>\n",
       "      <td>-0.303326</td>\n",
       "    </tr>\n",
       "    <tr>\n",
       "      <th>41</th>\n",
       "      <td>1</td>\n",
       "      <td>0</td>\n",
       "      <td>1</td>\n",
       "      <td>2</td>\n",
       "      <td>0</td>\n",
       "      <td>-0.020992</td>\n",
       "    </tr>\n",
       "    <tr>\n",
       "      <th>43</th>\n",
       "      <td>1</td>\n",
       "      <td>0</td>\n",
       "      <td>2</td>\n",
       "      <td>1</td>\n",
       "      <td>0</td>\n",
       "      <td>0.338936</td>\n",
       "    </tr>\n",
       "    <tr>\n",
       "      <th>44</th>\n",
       "      <td>1</td>\n",
       "      <td>0</td>\n",
       "      <td>3</td>\n",
       "      <td>0</td>\n",
       "      <td>0</td>\n",
       "      <td>-0.136974</td>\n",
       "    </tr>\n",
       "    <tr>\n",
       "      <th>57</th>\n",
       "      <td>2</td>\n",
       "      <td>0</td>\n",
       "      <td>0</td>\n",
       "      <td>2</td>\n",
       "      <td>0</td>\n",
       "      <td>0.229855</td>\n",
       "    </tr>\n",
       "    <tr>\n",
       "      <th>60</th>\n",
       "      <td>2</td>\n",
       "      <td>0</td>\n",
       "      <td>2</td>\n",
       "      <td>0</td>\n",
       "      <td>0</td>\n",
       "      <td>-0.223337</td>\n",
       "    </tr>\n",
       "    <tr>\n",
       "      <th>66</th>\n",
       "      <td>3</td>\n",
       "      <td>0</td>\n",
       "      <td>0</td>\n",
       "      <td>1</td>\n",
       "      <td>0</td>\n",
       "      <td>-0.257831</td>\n",
       "    </tr>\n",
       "    <tr>\n",
       "      <th>67</th>\n",
       "      <td>3</td>\n",
       "      <td>0</td>\n",
       "      <td>1</td>\n",
       "      <td>0</td>\n",
       "      <td>0</td>\n",
       "      <td>-0.200671</td>\n",
       "    </tr>\n",
       "    <tr>\n",
       "      <th>69</th>\n",
       "      <td>4</td>\n",
       "      <td>0</td>\n",
       "      <td>0</td>\n",
       "      <td>0</td>\n",
       "      <td>0</td>\n",
       "      <td>1.293542</td>\n",
       "    </tr>\n",
       "  </tbody>\n",
       "</table>\n",
       "</div>"
      ],
      "text/plain": [
       "    bul_count  bow_count  sword_count  axe_count  pos_count  time_diff\n",
       "4           0          0            0          4          0   1.077500\n",
       "8           0          0            1          3          0   0.496032\n",
       "11          0          0            2          2          0   0.410236\n",
       "13          0          0            3          1          0  -0.067441\n",
       "14          0          0            4          0          0   1.840300\n",
       "38          1          0            0          3          0  -0.303326\n",
       "41          1          0            1          2          0  -0.020992\n",
       "43          1          0            2          1          0   0.338936\n",
       "44          1          0            3          0          0  -0.136974\n",
       "57          2          0            0          2          0   0.229855\n",
       "60          2          0            2          0          0  -0.223337\n",
       "66          3          0            0          1          0  -0.257831\n",
       "67          3          0            1          0          0  -0.200671\n",
       "69          4          0            0          0          0   1.293542"
      ]
     },
     "execution_count": 283,
     "metadata": {},
     "output_type": "execute_result"
    }
   ],
   "source": [
    "dif_df.query('-1<time_diff<2.5')"
   ]
  },
  {
   "cell_type": "markdown",
   "id": "3116fee7",
   "metadata": {},
   "source": [
    "### Очевидно, теперь ещё два факта:\n",
    "* Почти на ровне с посохом пострадал и лук, так как в наборах, чьё время почти не изменилось их нет совсем\n",
    "* Меч и Топор хоть и немного отличась от булавы, показвают себя одинаково хорошо и пострадали меньше при обновлении\n",
    "\n",
    "*здесь уместо вспмнить, что как раз именно меч топор и две булавы показали сверх хороший результат*"
   ]
  }
 ],
 "metadata": {
  "kernelspec": {
   "display_name": "Python 3 (ipykernel)",
   "language": "python",
   "name": "python3"
  },
  "language_info": {
   "codemirror_mode": {
    "name": "ipython",
    "version": 3
   },
   "file_extension": ".py",
   "mimetype": "text/x-python",
   "name": "python",
   "nbconvert_exporter": "python",
   "pygments_lexer": "ipython3",
   "version": "3.10.6"
  }
 },
 "nbformat": 4,
 "nbformat_minor": 5
}
